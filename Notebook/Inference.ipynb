{
  "cells": [
    {
      "cell_type": "markdown",
      "metadata": {
        "id": "4gbQXBqtkYea"
      },
      "source": [
        "## Inisialisasi Library untuk Tahap Inference"
      ]
    },
    {
      "cell_type": "markdown",
      "metadata": {
        "id": "XfrVXtntNy7t"
      },
      "source": [
        "Pada tahap inference atau prediksi, kita perlu memuat beberapa library penting yang dibutuhkan untuk membaca model, melakukan preprocessing input, dan mengatur eksekusi program. Berikut penjelasan masing-masing library:\n",
        "\n",
        "- `pickle`: Digunakan untuk membuka file hasil serialisasi model dan tokenizer yang sebelumnya disimpan dalam format `.pkl`.\n",
        "- `numpy`: Digunakan untuk manipulasi data numerik seperti array, yang umum digunakan dalam pengolahan data machine learning.\n",
        "- `tensorflow`: Digunakan untuk memuat dan menjalankan model deep learning, khususnya model LSTM.\n",
        "- `pad_sequences` dari Keras: Digunakan untuk menyamakan panjang input teks agar dapat diproses oleh model LSTM.\n",
        "- `warnings`: Digunakan untuk menonaktifkan peringatan runtime agar output lebih bersih dan mudah dibaca."
      ]
    },
    {
      "cell_type": "code",
      "execution_count": 1,
      "metadata": {
        "id": "pVN7Kg2ckb1R"
      },
      "outputs": [],
      "source": [
        "# Mengimpor library untuk membaca file model dan tokenizer yang disimpan\n",
        "import pickle\n",
        "\n",
        "# Mengimpor library untuk manipulasi array dan operasi numerik\n",
        "import numpy as np\n",
        "\n",
        "# Mengimpor TensorFlow untuk memuat dan menjalankan model deep learning\n",
        "import tensorflow as tf\n",
        "\n",
        "# Mengimpor fungsi untuk padding input teks agar memiliki panjang yang seragam\n",
        "from keras.preprocessing.sequence import pad_sequences\n",
        "\n",
        "# Menonaktifkan peringatan agar output lebih bersih\n",
        "import warnings\n",
        "warnings.filterwarnings(\"ignore\")\n",
        "\n",
        "import os"
      ]
    },
    {
      "cell_type": "markdown",
      "metadata": {
        "id": "0PyHmtp6kdhE"
      },
      "source": [
        "## Memuat Model dan Alat Preprocessing untuk Inference"
      ]
    },
    {
      "cell_type": "markdown",
      "metadata": {
        "id": "kH6DezouNy7u"
      },
      "source": [
        "Pada tahap ini, kita akan memuat ulang seluruh model serta alat bantu preprocessing yang telah disimpan di dalam folder `Models/`.  \n",
        "Tahapan ini penting dilakukan sebelum melakukan inference (prediksi) pada data baru.\n",
        "\n",
        "#### Komponen yang dimuat:\n",
        "\n",
        "- **Model LSTM**: File `.h5` berisi model neural network LSTM untuk klasifikasi sentimen berbasis word embedding.\n",
        "- **Model SVM**: File `.pkl` hasil serialisasi model Support Vector Machine yang telah dilatih.\n",
        "- **Model Random Forest**: File `.pkl` yang berisi model machine learning Random Forest.\n",
        "- **TF-IDF Vectorizer**: Digunakan untuk mentransformasi teks menjadi fitur frekuensi kata.\n",
        "- **Tokenizer**: Digunakan untuk mengubah teks menjadi urutan token angka untuk model LSTM.\n",
        "\n",
        "Semua file ini disimpan di dalam folder `Models/` dan dibaca ke dalam memori agar siap digunakan untuk proses klasifikasi data baru."
      ]
    },
    {
      "cell_type": "code",
      "source": [
        "# Membuat folder baru bernama 'Models'\n",
        "os.makedirs('Models', exist_ok=True)"
      ],
      "metadata": {
        "id": "1IMDSuA6Ok7c"
      },
      "execution_count": 2,
      "outputs": []
    },
    {
      "cell_type": "code",
      "execution_count": 3,
      "metadata": {
        "colab": {
          "base_uri": "https://localhost:8080/"
        },
        "id": "zjpwKr-hkhRB",
        "outputId": "4d3ce9db-6966-44fa-842d-d527683142af"
      },
      "outputs": [
        {
          "output_type": "stream",
          "name": "stderr",
          "text": [
            "WARNING:absl:Compiled the loaded model, but the compiled metrics have yet to be built. `model.compile_metrics` will be empty until you train or evaluate the model.\n"
          ]
        }
      ],
      "source": [
        "lstm_model = tf.keras.models.load_model(\"Models/lstm_sentiment_model.h5\")\n",
        "\n",
        "with open(\"Models/svm_sentiment_model.pkl\", \"rb\") as f:\n",
        "    svm_model = pickle.load(f)\n",
        "\n",
        "with open(\"Models/rf_sentiment_model.pkl\", \"rb\") as f:\n",
        "    rf_model = pickle.load(f)\n",
        "\n",
        "with open(\"Models/vectorizer.pkl\", \"rb\") as f:\n",
        "    vectorizer = pickle.load(f)\n",
        "\n",
        "with open(\"Models/tokenizer.pkl\", \"rb\") as f:\n",
        "    tokenizer = pickle.load(f)"
      ]
    },
    {
      "cell_type": "markdown",
      "metadata": {
        "id": "UbqiSsRVkizq"
      },
      "source": [
        "## Preprocessing Untuk Data Baru"
      ]
    },
    {
      "cell_type": "markdown",
      "metadata": {
        "id": "12n5Gsp0Ny7v"
      },
      "source": [
        "Pada tahap ini, kita menyiapkan sejumlah data teks baru yang akan digunakan untuk pengujian model klasifikasi sentimen yang telah dilatih sebelumnya."
      ]
    },
    {
      "cell_type": "code",
      "execution_count": 4,
      "metadata": {
        "id": "t08BsG7gkl8Z"
      },
      "outputs": [],
      "source": [
        "# Data komentar baru yang digunakan untuk prediksi\n",
        "komentar = [\n",
        "    \"Aplikasi ini sangat membantu dalam cek deteksi spam!\",  #positif\n",
        "    \"Aplikasinya lemot banget\",  #negatif\n",
        "    \"Kalau mau lihat tag harus premium, tapi harga langganannya murah kok\"  #netral\n",
        "]\n",
        "\n",
        "# Preprocessing untuk Model LSTM:\n",
        "new_sequences = tokenizer.texts_to_sequences(komentar)\n",
        "\n",
        "# padding pada urutan token dengan maxlen=100\n",
        "new_padded = pad_sequences(new_sequences, maxlen=100)\n",
        "\n",
        "# Preprocessing untuk Model SVM dan Random Forest:\n",
        "new_tfidf = vectorizer.transform(komentar)"
      ]
    },
    {
      "cell_type": "markdown",
      "metadata": {
        "id": "dQT8z_M1koGF"
      },
      "source": [
        "## Perform Sentiment Prediction"
      ]
    },
    {
      "cell_type": "markdown",
      "metadata": {
        "id": "zxFUztzlNy7w"
      },
      "source": [
        "Llangkah selanjutnya adalah melakukan prediksi sentimen menggunakan tiga model berbeda yang telah dilatih sebelumnya, yaitu LSTM, SVM, dan Random Forest.\n"
      ]
    },
    {
      "cell_type": "code",
      "execution_count": 5,
      "metadata": {
        "colab": {
          "base_uri": "https://localhost:8080/"
        },
        "id": "1RuBx-nwkrKo",
        "outputId": "4f0b2855-797b-4629-eacd-701d1bc3e406"
      },
      "outputs": [
        {
          "output_type": "stream",
          "name": "stdout",
          "text": [
            "\u001b[1m1/1\u001b[0m \u001b[32m━━━━━━━━━━━━━━━━━━━━\u001b[0m\u001b[37m\u001b[0m \u001b[1m1s\u001b[0m 552ms/step\n"
          ]
        }
      ],
      "source": [
        "# Melakukan prediksi dengan model LSTM\n",
        "lstm_preds = np.argmax(lstm_model.predict(new_padded), axis=1)\n",
        "\n",
        "# Melakukan prediksi dengan model SVM\n",
        "svm_preds = svm_model.predict(new_tfidf)\n",
        "\n",
        "# Melakukan prediksi dengan model Random Forest\n",
        "rf_preds = rf_model.predict(new_tfidf)"
      ]
    },
    {
      "cell_type": "markdown",
      "metadata": {
        "id": "umDvxX5Gks6h"
      },
      "source": [
        "## Menampilkan Hasil Prediksi"
      ]
    },
    {
      "cell_type": "markdown",
      "metadata": {
        "id": "5t8H2a1BNy7x"
      },
      "source": [
        "Setelah proses prediksi dilakukan, tahap selanjutnya adalah menampilkan hasil prediksi sentimen dari ketiga model yaitu LSTM, SVM, dan Random Forest."
      ]
    },
    {
      "cell_type": "code",
      "execution_count": 6,
      "metadata": {
        "colab": {
          "base_uri": "https://localhost:8080/"
        },
        "id": "bHgbS6IJkvEV",
        "outputId": "f20467aa-916f-495f-c0f2-0597c3f8d1f6"
      },
      "outputs": [
        {
          "output_type": "stream",
          "name": "stdout",
          "text": [
            "\n",
            "Hasil Prediksi : \n",
            "Komentar : Aplikasi ini sangat membantu dalam cek deteksi spam!\n",
            "LSTM Prediction: positive\n",
            "SVM Prediction: positive\n",
            "Random Forest Prediction: positive\n",
            "----------------------------------------------------------------------------------------------------\n",
            "Komentar : Aplikasinya lemot banget\n",
            "LSTM Prediction: negative\n",
            "SVM Prediction: negative\n",
            "Random Forest Prediction: negative\n",
            "----------------------------------------------------------------------------------------------------\n",
            "Komentar : Kalau mau lihat tag harus premium, tapi harga langganannya murah kok\n",
            "LSTM Prediction: neutral\n",
            "SVM Prediction: neutral\n",
            "Random Forest Prediction: neutral\n",
            "----------------------------------------------------------------------------------------------------\n"
          ]
        }
      ],
      "source": [
        "# Mapping label numerik ke label string\n",
        "label_map = {0: \"negative\", 1: \"neutral\", 2: \"positive\"}\n",
        "\n",
        "# Menampilkan hasil prediksi\n",
        "print(\"\\nHasil Prediksi : \")\n",
        "for i, text in enumerate(komentar):\n",
        "    print(f\"Komentar : {text}\")\n",
        "    print(f\"LSTM Prediction: {label_map[lstm_preds[i]]}\")  # Hasil prediksi model LSTM\n",
        "    print(f\"SVM Prediction: {label_map[svm_preds[i]]}\")    # Hasil prediksi model SVM\n",
        "    print(f\"Random Forest Prediction: {label_map[rf_preds[i]]}\")  # Hasil prediksi model RF\n",
        "    print(\"-\" * 100)"
      ]
    }
  ],
  "metadata": {
    "colab": {
      "provenance": []
    },
    "kernelspec": {
      "display_name": "Python 3",
      "name": "python3"
    },
    "language_info": {
      "codemirror_mode": {
        "name": "ipython",
        "version": 3
      },
      "file_extension": ".py",
      "mimetype": "text/x-python",
      "name": "python",
      "nbconvert_exporter": "python",
      "pygments_lexer": "ipython3",
      "version": "3.12.7"
    }
  },
  "nbformat": 4,
  "nbformat_minor": 0
}