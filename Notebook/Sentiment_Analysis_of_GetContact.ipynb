{
  "nbformat": 4,
  "nbformat_minor": 0,
  "metadata": {
    "colab": {
      "provenance": []
    },
    "kernelspec": {
      "name": "python3",
      "display_name": "Python 3"
    },
    "language_info": {
      "name": "python"
    }
  },
  "cells": [
    {
      "cell_type": "markdown",
      "source": [
        "## **Sentimen Analisis Review GetContact Play Store**\n",
        "\n",
        "Analisis sentimen adalah salah satu cabang penting dalam pemrosesan bahasa alami yang memungkinkan kita untuk secara otomatis mengidentifikasi apakah ulasan pengguna cenderung positif atau negatif. Dengan demikian, proyek ini akan membantu kita dalam memahami umpan balik pengguna dengan lebih baik, dan dapat digunakan untuk mengambil keputusan yang lebih baik dalam pengembangan dan perbaikan aplikasi."
      ],
      "metadata": {
        "id": "8Y1TfuEEVMWL"
      }
    },
    {
      "cell_type": "markdown",
      "source": [
        "## Import Library"
      ],
      "metadata": {
        "id": "fz1hjK-JVp1w"
      }
    },
    {
      "cell_type": "markdown",
      "source": [
        "Pada bagian ini, berbagai pustaka Python diimpor untuk mendukung proses analisis sentimen. Mulai dari:\n",
        "\n",
        "- **Manipulasi data**: seperti `pandas` dan `numpy`\n",
        "- **Visualisasi**: seperti `matplotlib`, `seaborn`, dan `wordcloud`\n",
        "- **Pemrosesan teks**: seperti `nltk` dan `Sastrawi` untuk preprocessing bahasa Indonesia\n",
        "- **Machine Learning**: seperti `scikit-learn` untuk model SVM & Random Forest\n",
        "- **Deep Learning**: seperti `TensorFlow` untuk membangun model LSTM\n",
        "- Beberapa konfigurasi tambahan juga disiapkan, seperti pengunduhan stopwords dan penonaktifan warning sistem."
      ],
      "metadata": {
        "id": "_-qv-cK73wcP"
      }
    },
    {
      "cell_type": "code",
      "execution_count": 1,
      "metadata": {
        "colab": {
          "base_uri": "https://localhost:8080/"
        },
        "id": "bey5QYndVLhL",
        "outputId": "d9629870-8640-4452-e7d6-c56b846d56bf"
      },
      "outputs": [
        {
          "output_type": "stream",
          "name": "stdout",
          "text": [
            "Requirement already satisfied: Sastrawi in /usr/local/lib/python3.11/dist-packages (1.0.1)\n"
          ]
        },
        {
          "output_type": "stream",
          "name": "stderr",
          "text": [
            "[nltk_data] Downloading package punkt to /root/nltk_data...\n",
            "[nltk_data]   Package punkt is already up-to-date!\n",
            "[nltk_data] Downloading package punkt_tab to /root/nltk_data...\n",
            "[nltk_data]   Package punkt_tab is already up-to-date!\n",
            "[nltk_data] Downloading package stopwords to /root/nltk_data...\n",
            "[nltk_data]   Package stopwords is already up-to-date!\n"
          ]
        }
      ],
      "source": [
        "# Instalasi pustaka yang dibutuhkan\n",
        "!pip install Sastrawi\n",
        "\n",
        "# Pustaka untuk manipulasi data dan visualisasi\n",
        "import pandas as pd\n",
        "import numpy as np\n",
        "import matplotlib.pyplot as plt\n",
        "import seaborn as sns\n",
        "from wordcloud import WordCloud\n",
        "\n",
        "# Pemrosesan teks\n",
        "import re\n",
        "import string\n",
        "import json\n",
        "import requests\n",
        "import pickle\n",
        "from nltk.tokenize import word_tokenize\n",
        "from nltk.corpus import stopwords\n",
        "from nltk import download as nltk_unduh\n",
        "from Sastrawi.StopWordRemover.StopWordRemoverFactory import StopWordRemoverFactory\n",
        "\n",
        "# Mengunduh dependensi NLTK\n",
        "nltk_unduh('punkt')\n",
        "nltk_unduh('punkt_tab')\n",
        "nltk_unduh('stopwords')\n",
        "\n",
        "# Pustaka untuk pembelajaran mesin\n",
        "from sklearn.svm import SVC\n",
        "from sklearn.ensemble import RandomForestClassifier\n",
        "from sklearn.feature_extraction.text import TfidfVectorizer\n",
        "from sklearn.model_selection import train_test_split\n",
        "from sklearn.metrics import accuracy_score, precision_score, classification_report, confusion_matrix\n",
        "from sklearn.model_selection import RandomizedSearchCV\n",
        "from sklearn.metrics import accuracy_score, classification_report\n",
        "\n",
        "# Pustaka untuk pembelajaran mendalam\n",
        "import tensorflow as tf\n",
        "from tensorflow.keras.preprocessing.text import Tokenizer\n",
        "from tensorflow.keras.preprocessing.sequence import pad_sequences\n",
        "from tensorflow.keras.models import Sequential\n",
        "from tensorflow.keras.layers import Embedding, LSTM, Dense, Dropout, Flatten, GRU, SpatialDropout1D\n",
        "from tensorflow.keras.utils import to_categorical\n",
        "from tensorflow.keras.callbacks import EarlyStopping, Callback, ReduceLROnPlateau\n",
        "from tensorflow.keras.regularizers import l2\n",
        "from tensorflow.keras.optimizers import Adam\n",
        "\n",
        "# Menonaktifkan peringatan sistem\n",
        "import warnings\n",
        "warnings.filterwarnings(\"ignore\")"
      ]
    },
    {
      "cell_type": "markdown",
      "source": [
        "## Loading Dataset\n",
        "\n",
        "Dataset hasil scraping yang berisi ulasan pengguna aplikasi **GetContact** dibaca menggunakan `pandas`. Data ini digunakan sebagai bahan utama untuk proses analisis sentimen, yang berisi teks ulasan yang nantinya akan diproses dan dianalisis lebih lanjut."
      ],
      "metadata": {
        "id": "cvwbkNv7X0wR"
      }
    },
    {
      "cell_type": "code",
      "source": [
        "file_path = \"ulasan_GetContact.csv\"\n",
        "df = pd.read_csv(file_path)\n",
        "df.head()"
      ],
      "metadata": {
        "colab": {
          "base_uri": "https://localhost:8080/",
          "height": 293
        },
        "id": "afCONbOnX5cn",
        "outputId": "9a53d484-ea6a-4543-d42d-784fb001a538"
      },
      "execution_count": 2,
      "outputs": [
        {
          "output_type": "execute_result",
          "data": {
            "text/plain": [
              "                               reviewId         userName  \\\n",
              "0  a2c54f9a-91c8-4323-93a1-3f931470c749  Pengguna Google   \n",
              "1  5bf291c5-34c3-47a8-89e6-54440001d615  Pengguna Google   \n",
              "2  09b48ecb-4b9c-453f-a7c6-be823bbfa0f0  Pengguna Google   \n",
              "3  f151df74-3b39-4ee3-920c-5ef01f857acd  Pengguna Google   \n",
              "4  353fe522-5a16-4c32-896e-e419df5f2d59  Pengguna Google   \n",
              "\n",
              "                                           userImage  \\\n",
              "0  https://play-lh.googleusercontent.com/EGemoI2N...   \n",
              "1  https://play-lh.googleusercontent.com/EGemoI2N...   \n",
              "2  https://play-lh.googleusercontent.com/EGemoI2N...   \n",
              "3  https://play-lh.googleusercontent.com/EGemoI2N...   \n",
              "4  https://play-lh.googleusercontent.com/EGemoI2N...   \n",
              "\n",
              "                                             content  score  thumbsUpCount  \\\n",
              "0  kecewa sih setelah ada premium mau scroll pesa...      1             41   \n",
              "1  Mau verifikasi aja susah, pas pengetikan nomor...      1           1218   \n",
              "2  Aplikasi bobrok gak jelas bgt, anda ini bikin ...      1            414   \n",
              "3  sangat bagus, namun ada bug pada saat verifika...      5           1321   \n",
              "4  Sekrang kok ngebug ya. Mau login susah banget....      2            114   \n",
              "\n",
              "  reviewCreatedVersion                   at  \\\n",
              "0                8.2.0  2025-04-09 03:54:35   \n",
              "1                8.2.0  2025-03-13 13:13:01   \n",
              "2                8.2.0  2025-03-18 22:21:45   \n",
              "3                8.1.0  2025-02-12 03:35:04   \n",
              "4                8.1.0  2025-02-15 11:45:20   \n",
              "\n",
              "                                        replyContent            repliedAt  \\\n",
              "0  Halo, Mohon maaf atas ketidaknyamanannya. Sila...  2025-03-18 06:10:56   \n",
              "1  Halo, Mohon maaf atas ketidaknyamanannya. Sila...  2025-03-13 14:28:51   \n",
              "2  Halo, Jika Anda kesulitan mendapatkan kode ver...  2025-03-19 08:31:53   \n",
              "3                                                NaN                  NaN   \n",
              "4  Halo,Kami ingin melihat situasi yang Anda alam...  2025-02-15 18:31:39   \n",
              "\n",
              "  appVersion  \n",
              "0      8.2.0  \n",
              "1      8.2.0  \n",
              "2      8.2.0  \n",
              "3      8.1.0  \n",
              "4      8.1.0  "
            ],
            "text/html": [
              "\n",
              "  <div id=\"df-94c9688a-d89a-4307-992b-23c8d1a92f97\" class=\"colab-df-container\">\n",
              "    <div>\n",
              "<style scoped>\n",
              "    .dataframe tbody tr th:only-of-type {\n",
              "        vertical-align: middle;\n",
              "    }\n",
              "\n",
              "    .dataframe tbody tr th {\n",
              "        vertical-align: top;\n",
              "    }\n",
              "\n",
              "    .dataframe thead th {\n",
              "        text-align: right;\n",
              "    }\n",
              "</style>\n",
              "<table border=\"1\" class=\"dataframe\">\n",
              "  <thead>\n",
              "    <tr style=\"text-align: right;\">\n",
              "      <th></th>\n",
              "      <th>reviewId</th>\n",
              "      <th>userName</th>\n",
              "      <th>userImage</th>\n",
              "      <th>content</th>\n",
              "      <th>score</th>\n",
              "      <th>thumbsUpCount</th>\n",
              "      <th>reviewCreatedVersion</th>\n",
              "      <th>at</th>\n",
              "      <th>replyContent</th>\n",
              "      <th>repliedAt</th>\n",
              "      <th>appVersion</th>\n",
              "    </tr>\n",
              "  </thead>\n",
              "  <tbody>\n",
              "    <tr>\n",
              "      <th>0</th>\n",
              "      <td>a2c54f9a-91c8-4323-93a1-3f931470c749</td>\n",
              "      <td>Pengguna Google</td>\n",
              "      <td>https://play-lh.googleusercontent.com/EGemoI2N...</td>\n",
              "      <td>kecewa sih setelah ada premium mau scroll pesa...</td>\n",
              "      <td>1</td>\n",
              "      <td>41</td>\n",
              "      <td>8.2.0</td>\n",
              "      <td>2025-04-09 03:54:35</td>\n",
              "      <td>Halo, Mohon maaf atas ketidaknyamanannya. Sila...</td>\n",
              "      <td>2025-03-18 06:10:56</td>\n",
              "      <td>8.2.0</td>\n",
              "    </tr>\n",
              "    <tr>\n",
              "      <th>1</th>\n",
              "      <td>5bf291c5-34c3-47a8-89e6-54440001d615</td>\n",
              "      <td>Pengguna Google</td>\n",
              "      <td>https://play-lh.googleusercontent.com/EGemoI2N...</td>\n",
              "      <td>Mau verifikasi aja susah, pas pengetikan nomor...</td>\n",
              "      <td>1</td>\n",
              "      <td>1218</td>\n",
              "      <td>8.2.0</td>\n",
              "      <td>2025-03-13 13:13:01</td>\n",
              "      <td>Halo, Mohon maaf atas ketidaknyamanannya. Sila...</td>\n",
              "      <td>2025-03-13 14:28:51</td>\n",
              "      <td>8.2.0</td>\n",
              "    </tr>\n",
              "    <tr>\n",
              "      <th>2</th>\n",
              "      <td>09b48ecb-4b9c-453f-a7c6-be823bbfa0f0</td>\n",
              "      <td>Pengguna Google</td>\n",
              "      <td>https://play-lh.googleusercontent.com/EGemoI2N...</td>\n",
              "      <td>Aplikasi bobrok gak jelas bgt, anda ini bikin ...</td>\n",
              "      <td>1</td>\n",
              "      <td>414</td>\n",
              "      <td>8.2.0</td>\n",
              "      <td>2025-03-18 22:21:45</td>\n",
              "      <td>Halo, Jika Anda kesulitan mendapatkan kode ver...</td>\n",
              "      <td>2025-03-19 08:31:53</td>\n",
              "      <td>8.2.0</td>\n",
              "    </tr>\n",
              "    <tr>\n",
              "      <th>3</th>\n",
              "      <td>f151df74-3b39-4ee3-920c-5ef01f857acd</td>\n",
              "      <td>Pengguna Google</td>\n",
              "      <td>https://play-lh.googleusercontent.com/EGemoI2N...</td>\n",
              "      <td>sangat bagus, namun ada bug pada saat verifika...</td>\n",
              "      <td>5</td>\n",
              "      <td>1321</td>\n",
              "      <td>8.1.0</td>\n",
              "      <td>2025-02-12 03:35:04</td>\n",
              "      <td>NaN</td>\n",
              "      <td>NaN</td>\n",
              "      <td>8.1.0</td>\n",
              "    </tr>\n",
              "    <tr>\n",
              "      <th>4</th>\n",
              "      <td>353fe522-5a16-4c32-896e-e419df5f2d59</td>\n",
              "      <td>Pengguna Google</td>\n",
              "      <td>https://play-lh.googleusercontent.com/EGemoI2N...</td>\n",
              "      <td>Sekrang kok ngebug ya. Mau login susah banget....</td>\n",
              "      <td>2</td>\n",
              "      <td>114</td>\n",
              "      <td>8.1.0</td>\n",
              "      <td>2025-02-15 11:45:20</td>\n",
              "      <td>Halo,Kami ingin melihat situasi yang Anda alam...</td>\n",
              "      <td>2025-02-15 18:31:39</td>\n",
              "      <td>8.1.0</td>\n",
              "    </tr>\n",
              "  </tbody>\n",
              "</table>\n",
              "</div>\n",
              "    <div class=\"colab-df-buttons\">\n",
              "\n",
              "  <div class=\"colab-df-container\">\n",
              "    <button class=\"colab-df-convert\" onclick=\"convertToInteractive('df-94c9688a-d89a-4307-992b-23c8d1a92f97')\"\n",
              "            title=\"Convert this dataframe to an interactive table.\"\n",
              "            style=\"display:none;\">\n",
              "\n",
              "  <svg xmlns=\"http://www.w3.org/2000/svg\" height=\"24px\" viewBox=\"0 -960 960 960\">\n",
              "    <path d=\"M120-120v-720h720v720H120Zm60-500h600v-160H180v160Zm220 220h160v-160H400v160Zm0 220h160v-160H400v160ZM180-400h160v-160H180v160Zm440 0h160v-160H620v160ZM180-180h160v-160H180v160Zm440 0h160v-160H620v160Z\"/>\n",
              "  </svg>\n",
              "    </button>\n",
              "\n",
              "  <style>\n",
              "    .colab-df-container {\n",
              "      display:flex;\n",
              "      gap: 12px;\n",
              "    }\n",
              "\n",
              "    .colab-df-convert {\n",
              "      background-color: #E8F0FE;\n",
              "      border: none;\n",
              "      border-radius: 50%;\n",
              "      cursor: pointer;\n",
              "      display: none;\n",
              "      fill: #1967D2;\n",
              "      height: 32px;\n",
              "      padding: 0 0 0 0;\n",
              "      width: 32px;\n",
              "    }\n",
              "\n",
              "    .colab-df-convert:hover {\n",
              "      background-color: #E2EBFA;\n",
              "      box-shadow: 0px 1px 2px rgba(60, 64, 67, 0.3), 0px 1px 3px 1px rgba(60, 64, 67, 0.15);\n",
              "      fill: #174EA6;\n",
              "    }\n",
              "\n",
              "    .colab-df-buttons div {\n",
              "      margin-bottom: 4px;\n",
              "    }\n",
              "\n",
              "    [theme=dark] .colab-df-convert {\n",
              "      background-color: #3B4455;\n",
              "      fill: #D2E3FC;\n",
              "    }\n",
              "\n",
              "    [theme=dark] .colab-df-convert:hover {\n",
              "      background-color: #434B5C;\n",
              "      box-shadow: 0px 1px 3px 1px rgba(0, 0, 0, 0.15);\n",
              "      filter: drop-shadow(0px 1px 2px rgba(0, 0, 0, 0.3));\n",
              "      fill: #FFFFFF;\n",
              "    }\n",
              "  </style>\n",
              "\n",
              "    <script>\n",
              "      const buttonEl =\n",
              "        document.querySelector('#df-94c9688a-d89a-4307-992b-23c8d1a92f97 button.colab-df-convert');\n",
              "      buttonEl.style.display =\n",
              "        google.colab.kernel.accessAllowed ? 'block' : 'none';\n",
              "\n",
              "      async function convertToInteractive(key) {\n",
              "        const element = document.querySelector('#df-94c9688a-d89a-4307-992b-23c8d1a92f97');\n",
              "        const dataTable =\n",
              "          await google.colab.kernel.invokeFunction('convertToInteractive',\n",
              "                                                    [key], {});\n",
              "        if (!dataTable) return;\n",
              "\n",
              "        const docLinkHtml = 'Like what you see? Visit the ' +\n",
              "          '<a target=\"_blank\" href=https://colab.research.google.com/notebooks/data_table.ipynb>data table notebook</a>'\n",
              "          + ' to learn more about interactive tables.';\n",
              "        element.innerHTML = '';\n",
              "        dataTable['output_type'] = 'display_data';\n",
              "        await google.colab.output.renderOutput(dataTable, element);\n",
              "        const docLink = document.createElement('div');\n",
              "        docLink.innerHTML = docLinkHtml;\n",
              "        element.appendChild(docLink);\n",
              "      }\n",
              "    </script>\n",
              "  </div>\n",
              "\n",
              "\n",
              "<div id=\"df-afb37f39-f8d0-4445-be35-af32685a0575\">\n",
              "  <button class=\"colab-df-quickchart\" onclick=\"quickchart('df-afb37f39-f8d0-4445-be35-af32685a0575')\"\n",
              "            title=\"Suggest charts\"\n",
              "            style=\"display:none;\">\n",
              "\n",
              "<svg xmlns=\"http://www.w3.org/2000/svg\" height=\"24px\"viewBox=\"0 0 24 24\"\n",
              "     width=\"24px\">\n",
              "    <g>\n",
              "        <path d=\"M19 3H5c-1.1 0-2 .9-2 2v14c0 1.1.9 2 2 2h14c1.1 0 2-.9 2-2V5c0-1.1-.9-2-2-2zM9 17H7v-7h2v7zm4 0h-2V7h2v10zm4 0h-2v-4h2v4z\"/>\n",
              "    </g>\n",
              "</svg>\n",
              "  </button>\n",
              "\n",
              "<style>\n",
              "  .colab-df-quickchart {\n",
              "      --bg-color: #E8F0FE;\n",
              "      --fill-color: #1967D2;\n",
              "      --hover-bg-color: #E2EBFA;\n",
              "      --hover-fill-color: #174EA6;\n",
              "      --disabled-fill-color: #AAA;\n",
              "      --disabled-bg-color: #DDD;\n",
              "  }\n",
              "\n",
              "  [theme=dark] .colab-df-quickchart {\n",
              "      --bg-color: #3B4455;\n",
              "      --fill-color: #D2E3FC;\n",
              "      --hover-bg-color: #434B5C;\n",
              "      --hover-fill-color: #FFFFFF;\n",
              "      --disabled-bg-color: #3B4455;\n",
              "      --disabled-fill-color: #666;\n",
              "  }\n",
              "\n",
              "  .colab-df-quickchart {\n",
              "    background-color: var(--bg-color);\n",
              "    border: none;\n",
              "    border-radius: 50%;\n",
              "    cursor: pointer;\n",
              "    display: none;\n",
              "    fill: var(--fill-color);\n",
              "    height: 32px;\n",
              "    padding: 0;\n",
              "    width: 32px;\n",
              "  }\n",
              "\n",
              "  .colab-df-quickchart:hover {\n",
              "    background-color: var(--hover-bg-color);\n",
              "    box-shadow: 0 1px 2px rgba(60, 64, 67, 0.3), 0 1px 3px 1px rgba(60, 64, 67, 0.15);\n",
              "    fill: var(--button-hover-fill-color);\n",
              "  }\n",
              "\n",
              "  .colab-df-quickchart-complete:disabled,\n",
              "  .colab-df-quickchart-complete:disabled:hover {\n",
              "    background-color: var(--disabled-bg-color);\n",
              "    fill: var(--disabled-fill-color);\n",
              "    box-shadow: none;\n",
              "  }\n",
              "\n",
              "  .colab-df-spinner {\n",
              "    border: 2px solid var(--fill-color);\n",
              "    border-color: transparent;\n",
              "    border-bottom-color: var(--fill-color);\n",
              "    animation:\n",
              "      spin 1s steps(1) infinite;\n",
              "  }\n",
              "\n",
              "  @keyframes spin {\n",
              "    0% {\n",
              "      border-color: transparent;\n",
              "      border-bottom-color: var(--fill-color);\n",
              "      border-left-color: var(--fill-color);\n",
              "    }\n",
              "    20% {\n",
              "      border-color: transparent;\n",
              "      border-left-color: var(--fill-color);\n",
              "      border-top-color: var(--fill-color);\n",
              "    }\n",
              "    30% {\n",
              "      border-color: transparent;\n",
              "      border-left-color: var(--fill-color);\n",
              "      border-top-color: var(--fill-color);\n",
              "      border-right-color: var(--fill-color);\n",
              "    }\n",
              "    40% {\n",
              "      border-color: transparent;\n",
              "      border-right-color: var(--fill-color);\n",
              "      border-top-color: var(--fill-color);\n",
              "    }\n",
              "    60% {\n",
              "      border-color: transparent;\n",
              "      border-right-color: var(--fill-color);\n",
              "    }\n",
              "    80% {\n",
              "      border-color: transparent;\n",
              "      border-right-color: var(--fill-color);\n",
              "      border-bottom-color: var(--fill-color);\n",
              "    }\n",
              "    90% {\n",
              "      border-color: transparent;\n",
              "      border-bottom-color: var(--fill-color);\n",
              "    }\n",
              "  }\n",
              "</style>\n",
              "\n",
              "  <script>\n",
              "    async function quickchart(key) {\n",
              "      const quickchartButtonEl =\n",
              "        document.querySelector('#' + key + ' button');\n",
              "      quickchartButtonEl.disabled = true;  // To prevent multiple clicks.\n",
              "      quickchartButtonEl.classList.add('colab-df-spinner');\n",
              "      try {\n",
              "        const charts = await google.colab.kernel.invokeFunction(\n",
              "            'suggestCharts', [key], {});\n",
              "      } catch (error) {\n",
              "        console.error('Error during call to suggestCharts:', error);\n",
              "      }\n",
              "      quickchartButtonEl.classList.remove('colab-df-spinner');\n",
              "      quickchartButtonEl.classList.add('colab-df-quickchart-complete');\n",
              "    }\n",
              "    (() => {\n",
              "      let quickchartButtonEl =\n",
              "        document.querySelector('#df-afb37f39-f8d0-4445-be35-af32685a0575 button');\n",
              "      quickchartButtonEl.style.display =\n",
              "        google.colab.kernel.accessAllowed ? 'block' : 'none';\n",
              "    })();\n",
              "  </script>\n",
              "</div>\n",
              "\n",
              "    </div>\n",
              "  </div>\n"
            ],
            "application/vnd.google.colaboratory.intrinsic+json": {
              "type": "dataframe",
              "variable_name": "df",
              "summary": "{\n  \"name\": \"df\",\n  \"rows\": 50000,\n  \"fields\": [\n    {\n      \"column\": \"reviewId\",\n      \"properties\": {\n        \"dtype\": \"string\",\n        \"num_unique_values\": 50000,\n        \"samples\": [\n          \"fce76e0e-c2ff-4e4a-a28e-c2af0dd35222\",\n          \"05b83745-1178-4dd7-8d28-58ee4f3b58b7\",\n          \"80f7c90f-cc78-4fe9-bfee-0cfb58775991\"\n        ],\n        \"semantic_type\": \"\",\n        \"description\": \"\"\n      }\n    },\n    {\n      \"column\": \"userName\",\n      \"properties\": {\n        \"dtype\": \"category\",\n        \"num_unique_values\": 497,\n        \"samples\": [\n          \"jane zhdjdjd\",\n          \"zhai feng\",\n          \"Janice Vinsky Sia\"\n        ],\n        \"semantic_type\": \"\",\n        \"description\": \"\"\n      }\n    },\n    {\n      \"column\": \"userImage\",\n      \"properties\": {\n        \"dtype\": \"category\",\n        \"num_unique_values\": 497,\n        \"samples\": [\n          \"https://play-lh.googleusercontent.com/a-/ALV-UjVm8WG2k7gebkdoTXq7cToYnq7pVU5Clu-hOMfxv2d-mJx3F83a\",\n          \"https://play-lh.googleusercontent.com/a-/ALV-UjXCbLL9ljRyfknf46HhqxOO76LgZ_2eHsN4tqF7-QpGv1B62Pw\",\n          \"https://play-lh.googleusercontent.com/a/ACg8ocJjUJiunVGDpq4XBgs19AzN7H59NDTL7pwFQIeFbGdatNNMHQ=mo\"\n        ],\n        \"semantic_type\": \"\",\n        \"description\": \"\"\n      }\n    },\n    {\n      \"column\": \"content\",\n      \"properties\": {\n        \"dtype\": \"string\",\n        \"num_unique_values\": 49716,\n        \"samples\": [\n          \"aplikasinya sangat jelek\",\n          \"Tidak semua kontak diperlihatkan\",\n          \"Aplikasi bagus hanya perlu pembaruan sedikit aja\"\n        ],\n        \"semantic_type\": \"\",\n        \"description\": \"\"\n      }\n    },\n    {\n      \"column\": \"score\",\n      \"properties\": {\n        \"dtype\": \"number\",\n        \"std\": 1,\n        \"min\": 1,\n        \"max\": 5,\n        \"num_unique_values\": 5,\n        \"samples\": [\n          5,\n          4,\n          2\n        ],\n        \"semantic_type\": \"\",\n        \"description\": \"\"\n      }\n    },\n    {\n      \"column\": \"thumbsUpCount\",\n      \"properties\": {\n        \"dtype\": \"number\",\n        \"std\": 117,\n        \"min\": 0,\n        \"max\": 7472,\n        \"num_unique_values\": 468,\n        \"samples\": [\n          122,\n          244,\n          4\n        ],\n        \"semantic_type\": \"\",\n        \"description\": \"\"\n      }\n    },\n    {\n      \"column\": \"reviewCreatedVersion\",\n      \"properties\": {\n        \"dtype\": \"category\",\n        \"num_unique_values\": 68,\n        \"samples\": [\n          \"5.1.3\",\n          \"6.5.2\",\n          \"7.4.0\"\n        ],\n        \"semantic_type\": \"\",\n        \"description\": \"\"\n      }\n    },\n    {\n      \"column\": \"at\",\n      \"properties\": {\n        \"dtype\": \"object\",\n        \"num_unique_values\": 49984,\n        \"samples\": [\n          \"2021-06-14 11:18:30\",\n          \"2024-09-21 15:52:27\",\n          \"2021-12-03 03:46:42\"\n        ],\n        \"semantic_type\": \"\",\n        \"description\": \"\"\n      }\n    },\n    {\n      \"column\": \"replyContent\",\n      \"properties\": {\n        \"dtype\": \"category\",\n        \"num_unique_values\": 706,\n        \"samples\": [\n          \"Halo, Guruh. Terima kasih atas tanggapan Anda. Getcontact menawarkan beragam pilihan paket langganan dan tarif yang disesuaikan dengan kebutuhan Anda, termasuk versi gratis. - Getcontact Team\",\n          \"Halo, Aplikasi ini membantu pengguna dalam menghindari panggilan yang tidak diinginkan dan melindungi dari panggilan spam. Anda dapat menemukan jawaban untuk semua pertanyaan mengenai Getcontact pada tautan di bawah https://getcontact.faq.desk360.com/ Terima kasih. - Getcontact Team\",\n          \"Halo, Kami ingin memeriksa situasi yang Anda hadapi. Silakan hubungi kami dengan mengisi formulir https://www.getcontact.com/send-report Kami akan membantu Anda dengan senang hati. Terima kasih. - Getcontact Team\"\n        ],\n        \"semantic_type\": \"\",\n        \"description\": \"\"\n      }\n    },\n    {\n      \"column\": \"repliedAt\",\n      \"properties\": {\n        \"dtype\": \"object\",\n        \"num_unique_values\": 25260,\n        \"samples\": [\n          \"2024-09-08 10:18:17\",\n          \"2024-02-19 12:36:00\",\n          \"2025-01-05 18:51:44\"\n        ],\n        \"semantic_type\": \"\",\n        \"description\": \"\"\n      }\n    },\n    {\n      \"column\": \"appVersion\",\n      \"properties\": {\n        \"dtype\": \"category\",\n        \"num_unique_values\": 68,\n        \"samples\": [\n          \"5.1.3\",\n          \"6.5.2\",\n          \"7.4.0\"\n        ],\n        \"semantic_type\": \"\",\n        \"description\": \"\"\n      }\n    }\n  ]\n}"
            }
          },
          "metadata": {},
          "execution_count": 2
        }
      ]
    },
    {
      "cell_type": "markdown",
      "source": [
        "**Menampilkan Informasi Data dan Cleaning Data**"
      ],
      "metadata": {
        "id": "GqG9a4ZkFgdA"
      }
    },
    {
      "cell_type": "code",
      "source": [
        "# Menampilkan informasi dataset\n",
        "df.info()"
      ],
      "metadata": {
        "colab": {
          "base_uri": "https://localhost:8080/"
        },
        "id": "6Jxtlwn0YFwg",
        "outputId": "533afe15-83e0-449c-8412-9ff36cc4bfef"
      },
      "execution_count": 3,
      "outputs": [
        {
          "output_type": "stream",
          "name": "stdout",
          "text": [
            "<class 'pandas.core.frame.DataFrame'>\n",
            "RangeIndex: 50000 entries, 0 to 49999\n",
            "Data columns (total 11 columns):\n",
            " #   Column                Non-Null Count  Dtype \n",
            "---  ------                --------------  ----- \n",
            " 0   reviewId              50000 non-null  object\n",
            " 1   userName              50000 non-null  object\n",
            " 2   userImage             50000 non-null  object\n",
            " 3   content               50000 non-null  object\n",
            " 4   score                 50000 non-null  int64 \n",
            " 5   thumbsUpCount         50000 non-null  int64 \n",
            " 6   reviewCreatedVersion  35010 non-null  object\n",
            " 7   at                    50000 non-null  object\n",
            " 8   replyContent          25260 non-null  object\n",
            " 9   repliedAt             25260 non-null  object\n",
            " 10  appVersion            35010 non-null  object\n",
            "dtypes: int64(2), object(9)\n",
            "memory usage: 4.2+ MB\n"
          ]
        }
      ]
    },
    {
      "cell_type": "code",
      "source": [
        "# Cek jumlah data duplikat\n",
        "jumlah_duplikat = df.duplicated().sum()\n",
        "print(\"Jumlah data duplikat: {jumlah_duplikat}\")"
      ],
      "metadata": {
        "colab": {
          "base_uri": "https://localhost:8080/"
        },
        "id": "ZmKcXmXS469m",
        "outputId": "52f92169-ff84-4e97-e28e-4fb6b0d8e4ad"
      },
      "execution_count": 4,
      "outputs": [
        {
          "output_type": "stream",
          "name": "stdout",
          "text": [
            "Jumlah data duplikat: {jumlah_duplikat}\n"
          ]
        }
      ]
    },
    {
      "cell_type": "code",
      "source": [
        "# cek missing value\n",
        "print(\"Missing value tiap kolom:\")\n",
        "print(df.isnull().sum())"
      ],
      "metadata": {
        "colab": {
          "base_uri": "https://localhost:8080/"
        },
        "id": "p34GDIv-F_ws",
        "outputId": "c644f961-4e92-4aed-eb4d-9ba29ded4fb3"
      },
      "execution_count": 5,
      "outputs": [
        {
          "output_type": "stream",
          "name": "stdout",
          "text": [
            "Missing value tiap kolom:\n",
            "reviewId                    0\n",
            "userName                    0\n",
            "userImage                   0\n",
            "content                     0\n",
            "score                       0\n",
            "thumbsUpCount               0\n",
            "reviewCreatedVersion    14990\n",
            "at                          0\n",
            "replyContent            24740\n",
            "repliedAt               24740\n",
            "appVersion              14990\n",
            "dtype: int64\n"
          ]
        }
      ]
    },
    {
      "cell_type": "code",
      "source": [
        "# Membuat DataFrame baru (clean_df) dengan menghapus baris yang memiliki nilai yang hilang (NaN) dari app_reviews_df\n",
        "df = df.dropna()"
      ],
      "metadata": {
        "id": "ClQSTgfeae8f"
      },
      "execution_count": 6,
      "outputs": []
    },
    {
      "cell_type": "code",
      "source": [
        "# Menampilkan informasi tentang DataFrame clean_df setelah membersihkan nilai yang hilang (NaN)\n",
        "df.info()"
      ],
      "metadata": {
        "colab": {
          "base_uri": "https://localhost:8080/"
        },
        "id": "cW5gGYJ1aqPa",
        "outputId": "44e770f4-8167-4eee-9534-5820aff02cf6"
      },
      "execution_count": 7,
      "outputs": [
        {
          "output_type": "stream",
          "name": "stdout",
          "text": [
            "<class 'pandas.core.frame.DataFrame'>\n",
            "Index: 16504 entries, 0 to 49998\n",
            "Data columns (total 11 columns):\n",
            " #   Column                Non-Null Count  Dtype \n",
            "---  ------                --------------  ----- \n",
            " 0   reviewId              16504 non-null  object\n",
            " 1   userName              16504 non-null  object\n",
            " 2   userImage             16504 non-null  object\n",
            " 3   content               16504 non-null  object\n",
            " 4   score                 16504 non-null  int64 \n",
            " 5   thumbsUpCount         16504 non-null  int64 \n",
            " 6   reviewCreatedVersion  16504 non-null  object\n",
            " 7   at                    16504 non-null  object\n",
            " 8   replyContent          16504 non-null  object\n",
            " 9   repliedAt             16504 non-null  object\n",
            " 10  appVersion            16504 non-null  object\n",
            "dtypes: int64(2), object(9)\n",
            "memory usage: 1.5+ MB\n"
          ]
        }
      ]
    },
    {
      "cell_type": "markdown",
      "source": [
        "## Text Preprocessing\n",
        "\n",
        "Berikut adalah beberapa fungsi yang digunakan untuk membersihkan dan memproses teks. Inilah penjelasan singkat tentang masing-masing fungsi:\n",
        "\n",
        "1. `cleaningText(text)`: Fungsi ini digunakan untuk membersihkan teks dengan beberapa langkah, seperti menghapus mention, hashtag, RT (retweet), tautan (link), angka, dan tanda baca. Selain itu, itu juga menggantikan karakter newline dengan spasi dan menghilangkan spasi ekstra di awal dan akhir teks.\n",
        "\n",
        "2. `casefoldingText(text)`: Fungsi ini mengonversi semua karakter dalam teks menjadi huruf kecil (lowercase), sehingga teks menjadi lebih seragam.\n",
        "\n",
        "3. `tokenizingText(text)`: Fungsi ini digunakan untuk membagi teks menjadi daftar kata atau token. Ini berguna untuk mengurai teks menjadi komponen-komponen dasar.\n",
        "\n",
        "4. `filteringText(text)`: Fungsi ini digunakan untuk menghapus kata-kata berhenti (stopwords) dalam teks. Anda telah memperbarui daftar kata-kata berhenti dengan beberapa kata tambahan.\n",
        "\n",
        "5. `stemmingText(text)`: Fungsi ini menerapkan stemming pada teks, yaitu mengurangi kata-kata menjadi bentuk dasarnya. Anda menggunakan pustaka Sastrawi untuk melakukan stemming dalam bahasa Indonesia.\n",
        "\n",
        "6. `toSentence(list_words)`: Fungsi ini digunakan untuk menggabungkan daftar kata-kata menjadi sebuah kalimat.\n",
        "\n",
        "Anda dapat menggunakan fungsi-fungsi ini dalam proyek Anda untuk membersihkan, memproses, dan mempersiapkan teks sebelum melakukan analisis sentimen. Pastikan untuk memanggil fungsi-fungsi ini dengan benar sesuai dengan tahap pemrosesan teks yang Anda inginkan."
      ],
      "metadata": {
        "id": "CVJkdestbo7R"
      }
    },
    {
      "cell_type": "code",
      "source": [
        "# Fungsi untuk membersihkan teks ulasan aplikasi\n",
        "def proses_teks(teks):\n",
        "    teks = re.sub(r'@[A-Za-z0-9_]+', '', teks)\n",
        "    teks = re.sub(r'#[A-Za-z0-9_]+', '', teks)\n",
        "    teks = re.sub(r'[²]', ' ', teks)\n",
        "    teks = re.sub(r'\\d+', ' ', teks)\n",
        "    teks = re.sub(r'[^\\w\\s]', ' ', teks)\n",
        "    teks = teks.strip()\n",
        "    teks = teks.lower()\n",
        "    return teks\n",
        "\n",
        "# Fungsi untuk memecah teks menjadi kata-kata (token)\n",
        "def tokenisasi_teks(teks):\n",
        "    teks = word_tokenize(teks)  # Mengubah teks menjadi list token\n",
        "    return teks\n",
        "\n",
        "# Fungsi untuk menghapus stopwords dari list token\n",
        "def filter_stopwords(teks):\n",
        "    # Memuat stopwords Bahasa Indonesia dan Inggris\n",
        "    daftar_stopwords = set(stopwords.words('indonesian'))\n",
        "    daftar_stopwords_english = set(stopwords.words('english'))\n",
        "\n",
        "    # Menggabungkan stopwords Bahasa Indonesia dan Inggris\n",
        "    daftar_stopwords.update(daftar_stopwords_english)\n",
        "\n",
        "    # Menambahkan stopwords tambahan (umum dalam bahasa informal)\n",
        "    daftar_stopwords.update([\n",
        "        'di', 'ini', 'dan', 'lagi', 'itu', 'ke', 'apa', 'nya', 'sih', 'deh', 'kok', 'dong', 'nih', 'kan', 'dan', 'yang'\n",
        "        'duh', 'b', 'aja', 'btw'\n",
        "\n",
        "    ])\n",
        "\n",
        "    # Memfilter token yang bukan stopwords\n",
        "    hasil_filter = [kata for kata in teks if kata not in daftar_stopwords]\n",
        "\n",
        "    return hasil_filter\n",
        "\n",
        "\n",
        "# Fungsi untuk memuat daftar kata slang dari file JSON online\n",
        "def muat_kata_slang(url):\n",
        "    return requests.get(url).json()\n",
        "\n",
        "# URL raw GitHub yang berisi kamus kata slang\n",
        "url = \"https://raw.githubusercontent.com/azzhrdania/Proyek-Analisis-Sentimen-Gojek/refs/heads/main/Datasets/slangwords.json\"\n",
        "\n",
        "# Muat kamus slang ke dalam variabel\n",
        "kata_slang = muat_kata_slang(url)\n",
        "\n",
        "# Fungsi untuk mengganti kata slang dalam teks menjadi bentuk baku\n",
        "def perbaiki_kata_slang(teks):\n",
        "    kata_kata = teks.split()  # Pisahkan teks menjadi kata-kata\n",
        "    kata_diperbaiki = [\n",
        "        kata_slang[kata.lower()] if kata.lower() in kata_slang else kata\n",
        "        for kata in kata_kata\n",
        "    ]\n",
        "    return ' '.join(kata_diperbaiki)\n",
        "\n",
        "# Menggabungkan daftar token menjadi satu kalimat\n",
        "def gabungkan_ke_kalimat(tokens):\n",
        "    return ' '.join(tokens)\n",
        "\n",
        "# Bersihkan teks dan simpan hasilnya di kolom 'clean_text'\n",
        "df['clean_text'] = df['content'].apply(proses_teks) # Changed 'bersihkan_teks' to 'proses_teks'\n",
        "\n",
        "# Ganti kata slang dengan kata standar dan simpan di 'text_slangwords'\n",
        "df['text_slangwords'] = df['clean_text'].apply(perbaiki_kata_slang)\n",
        "\n",
        "# Tokenisasi teks (pisah menjadi kata-kata) dan simpan di 'text_tokenizing'\n",
        "df['text_tokenizing'] = df['text_slangwords'].apply(tokenisasi_teks)\n",
        "\n",
        "# Hapus stopwords (kata umum) dan simpan hasilnya di 'text_stopword'\n",
        "df['text_stopword'] = df['text_tokenizing'].apply(filter_stopwords)\n",
        "\n",
        "# Gabungkan token menjadi kalimat dan simpan di 'clean_content'\n",
        "df['clean_content'] = df['text_stopword'].apply(gabungkan_ke_kalimat)"
      ],
      "metadata": {
        "id": "0yXWAvZoaJdT"
      },
      "execution_count": 8,
      "outputs": []
    },
    {
      "cell_type": "markdown",
      "source": [
        "Kamus slang atau daftar kata-kata slang yang Anda berikan adalah kumpulan kata-kata slang bahasa Indonesia beserta terjemahan atau artinya dalam bahasa formal. Fungsi dari kamus slang seperti ini adalah:\n",
        "\n",
        "1. **Mengartikan Slang:** Kamus slang membantu orang yang mungkin tidak familiar dengan bahasa slang atau ekspresi yang digunakan di kalangan tertentu untuk memahami makna kata-kata tersebut.\n",
        "\n",
        "2. **Komunikasi Informal:** Slang sering digunakan dalam percakapan informal atau di media sosial. Kamus slang membantu orang untuk berkomunikasi dengan gaya yang lebih santai dan sesuai dengan konteksnya.\n",
        "\n",
        "3. **Pemahaman Budaya Pop:** Slang sering kali terkait dengan budaya pop dan dapat mencerminkan tren dan perubahan dalam bahasa. Kamus slang memungkinkan orang untuk mengikuti dan memahami bahasa dalam konteks budaya ini.\n",
        "\n",
        "4. **Penggunaan Sastra dan Penulisan:** Penulis atau pembicara mungkin ingin menggunakan slang dalam tulisannya untuk menciptakan efek tertentu atau mengekspresikan karakter atau setting yang lebih realistis. Kamus slang dapat membantu mereka memilih kata-kata dengan tepat.\n",
        "\n",
        "5. **Hiburan dan Curiositas:** Beberapa orang mungkin tertarik untuk mempelajari bahasa slang hanya untuk hiburan atau karena rasa ingin tahu terhadap variasi bahasa dan ungkapan dalam bahasa sehari-hari.\n",
        "\n",
        "Ingatlah bahwa penggunaan slang harus disesuaikan dengan konteks dan audiens. Slang cenderung lebih cocok untuk percakapan santai dengan teman-teman atau di lingkungan yang informal. Dalam situasi formal, penggunaan bahasa formal lebih sesuai."
      ],
      "metadata": {
        "id": "SkF4wS9WlCED"
      }
    },
    {
      "cell_type": "markdown",
      "source": [
        "**Memuat Leksikon Sentimen (Positive & Negative Word Lists)**"
      ],
      "metadata": {
        "id": "k-RP5ROqIhbE"
      }
    },
    {
      "cell_type": "markdown",
      "source": [
        "\n",
        "Pada tahap ini, dilakukan pengambilan *lexicon list* berbahasa Indonesia dari repositori online yang berisi kumpulan kata positif dan negatif. Lexicon ini digunakan untuk pendekatan *lexicon-based sentiment analysis*, di mana sentimen suatu kalimat dapat dianalisis berdasarkan jumlah kata bernuansa positif atau negatif yang muncul.\n",
        "\n",
        "Fungsi `ambil_lexikon()` digunakan untuk mengakses URL dan memuat kata-kata ke dalam struktur `set` agar lebih cepat saat pencocokan. Kemudian data dari URL dimasukkan ke dalam dua variabel, `lexikon_positif` dan `lexikon_negatif`.\n",
        "\n",
        "Langkah ini penting untuk mendukung metode analisis sentimen tanpa menggunakan pembelajaran mesin (machine learning), khususnya pada tahap awal atau baseline analisis.\n"
      ],
      "metadata": {
        "id": "lbEf2xaw_L0w"
      }
    },
    {
      "cell_type": "code",
      "source": [
        "# mengambil data lexsikon\n",
        "def mengambil_lexikon(url):\n",
        "    return set(k.strip() for k in requests.get(url).text.splitlines() if k.strip())\n",
        "\n",
        "# memuat lexsikon kata positif\n",
        "url_positif = \"https://raw.githubusercontent.com/masdevid/ID-OpinionWords/master/positive.txt\"\n",
        "lexikon_positif = mengambil_lexikon(url_positif)\n",
        "\n",
        "# memmuat lexsikon kata negatif\n",
        "url_negatif = \"https://raw.githubusercontent.com/masdevid/ID-OpinionWords/master/negative.txt\"\n",
        "lexikon_negatif = mengambil_lexikon(url_negatif)"
      ],
      "metadata": {
        "id": "CPlHwT3bIm4z"
      },
      "execution_count": 9,
      "outputs": []
    },
    {
      "cell_type": "markdown",
      "source": [
        "**Menentukan Label Sentimen Ulasan Berdasarkan Lexsikon**\n",
        "\n",
        "Pada tahap ini, dilakukan proses penentuan sentimen (positif, negatif, atau netral) terhadap setiap ulasan berdasarkan pendekatan *lexicon-based*. Fungsi `tentukan_sentimen()` menghitung skor sentimen dari setiap kata dalam teks yang telah diproses:\n",
        "\n",
        "- Skor akan bertambah jika ditemukan kata yang termasuk dalam leksikon positif.\n",
        "- Skor akan berkurang jika ditemukan kata yang termasuk dalam leksikon negatif.\n",
        "- Hasil akhir ditentukan sebagai:\n",
        "  - **Positif**, jika skor > 0\n",
        "  - **Negatif**, jika skor < 0\n",
        "  - **Netral**, jika skor = 0\n",
        "\n",
        "Kemudian, hasil skor dan label sentimen disimpan dalam dua kolom baru, yaitu `sentimen_skor` dan `sentimen`. Distribusi dari label sentimen ditampilkan menggunakan fungsi `value_counts()`.\n"
      ],
      "metadata": {
        "id": "3c4MqH9LJInK"
      }
    },
    {
      "cell_type": "code",
      "source": [
        "def tentukan_sentimen(teks):\n",
        "    skor = 0\n",
        "    for kata in teks:\n",
        "        if kata in lexikon_positif:\n",
        "            skor += 1\n",
        "        if kata in lexikon_negatif:\n",
        "            skor -= 1\n",
        "\n",
        "    if skor > 0:\n",
        "        sentimen = 'positif'\n",
        "    elif skor < 0:\n",
        "        sentimen = 'negatif'\n",
        "    else:\n",
        "        sentimen = 'netral'\n",
        "\n",
        "    return skor, sentimen\n",
        "\n",
        "hasil_sentimen = df['text_stopword'].apply(tentukan_sentimen)\n",
        "hasil_sentimen = list(zip(*hasil_sentimen))\n",
        "df['sentimen_skor'] = hasil_sentimen[0]\n",
        "df['sentimen'] = hasil_sentimen[1]\n",
        "print(df['sentimen'].value_counts())"
      ],
      "metadata": {
        "colab": {
          "base_uri": "https://localhost:8080/"
        },
        "id": "VHcvTE9gJND9",
        "outputId": "dbff6a16-a6eb-4dd5-8513-8bd373af28b0"
      },
      "execution_count": 10,
      "outputs": [
        {
          "output_type": "stream",
          "name": "stdout",
          "text": [
            "sentimen\n",
            "netral     8442\n",
            "negatif    5052\n",
            "positif    3010\n",
            "Name: count, dtype: int64\n"
          ]
        }
      ]
    },
    {
      "cell_type": "markdown",
      "source": [
        "**Visualisasi Distribusi Sentimen Ulasan GetContact**"
      ],
      "metadata": {
        "id": "PAkBnYfeJT7V"
      }
    },
    {
      "cell_type": "code",
      "source": [
        "# Hitung jumlah setiap kategori sentimen\n",
        "jumlah_sentimen = df['sentimen'].value_counts()\n",
        "\n",
        "warna = [\"#FFD700\", \"#FF69B4\", \"#87CEFA\"]\n",
        "fig, ax = plt.subplots(figsize=(8, 6))\n",
        "explode = (0.05, 0.05, 0.05)\n",
        "ax.pie(\n",
        "    jumlah_sentimen,\n",
        "    labels=jumlah_sentimen.index,\n",
        "    autopct='%1.1f%%',\n",
        "    startangle=140,\n",
        "    colors=warna,\n",
        "    explode=explode,\n",
        "    shadow=True,\n",
        "    textprops={'fontsize': 12, 'color': 'black'}\n",
        ")\n",
        "\n",
        "ax.set_title('Distribusi Sentimen Ulasan GetContact', fontsize=14)\n",
        "plt.axis('equal')\n",
        "plt.tight_layout()\n",
        "plt.show()"
      ],
      "metadata": {
        "colab": {
          "base_uri": "https://localhost:8080/",
          "height": 607
        },
        "id": "9jcmhQRSJZzO",
        "outputId": "323f2977-3fd8-4347-9697-446cd46db759"
      },
      "execution_count": 11,
      "outputs": [
        {
          "output_type": "display_data",
          "data": {
            "text/plain": [
              "<Figure size 800x600 with 1 Axes>"
            ],
            "image/png": "[encoded data removed]"
          },
          "metadata": {}
        }
      ]
    },
    {
      "cell_type": "markdown",
      "source": [
        "**Visualisasi Histogram Skor Sentimen**\n",
        "\n",
        "Histogram di bawah ini menunjukkan distribusi nilai skor sentimen dari setiap ulasan. Semakin tinggi skor positif, maka semakin banyak kata positif dalam ulasan tersebut.Sebaliknya, skor negatif mencerminkan dominasi kata negatif. Distribusi ini membantu memahami kecenderungan emosi dalam ulasan yang dianalisis.\n"
      ],
      "metadata": {
        "id": "10dTDfkVJfAm"
      }
    },
    {
      "cell_type": "code",
      "source": [
        "plt.figure(figsize=(8, 4))\n",
        "sns.histplot(df['sentimen_skor'], bins=30, kde=True, color='blue')\n",
        "plt.title('Distribusi Skor Sentimen')\n",
        "plt.xlabel('Skor Sentimen')\n",
        "plt.ylabel('Frekuensi')\n",
        "plt.grid(axis='y', linestyle='--', alpha=0.7)\n",
        "plt.tight_layout()\n",
        "plt.show()"
      ],
      "metadata": {
        "colab": {
          "base_uri": "https://localhost:8080/",
          "height": 407
        },
        "id": "NIPQy1OvJnEV",
        "outputId": "9b954163-9863-49a5-879b-640fcf1d51cf"
      },
      "execution_count": 12,
      "outputs": [
        {
          "output_type": "display_data",
          "data": {
            "text/plain": [
              "<Figure size 800x400 with 1 Axes>"
            ],
            "image/png": "[encoded data removed]"
          },
          "metadata": {}
        }
      ]
    },
    {
      "cell_type": "markdown",
      "source": [
        "Berdasarkan visualisasi histogram skor sentimen yang kamu tampilkan:\n",
        "\n",
        "- **Sebagian besar ulasan berada di sekitar skor 0**, yang berarti **banyak ulasan bersifat netral** atau memiliki jumlah kata positif dan negatif yang seimbang.\n",
        "- Terlihat ada **puncak tinggi di skor 0 dan -1**, yang menandakan:\n",
        "  - Skor **0** → ulasan netral, atau tidak banyak mengandung kata dalam leksikon.\n",
        "  - Skor **-1 hingga -2** → menunjukkan cukup banyak ulasan yang cenderung **negatif ringan**.\n",
        "- Distribusinya **tidak simetris** – bagian negatif (kiri) tampak **lebih dominan** dibandingkan bagian positif (kanan), menandakan:\n",
        "  - **Ulasan negatif sedikit lebih banyak dibanding ulasan positif.**\n",
        "- Sebagian besar skor berada dalam rentang **-4 sampai +3**, jadi mayoritas ulasan **tidak terlalu ekstrem** (tidak terlalu positif atau negatif sekali)."
      ],
      "metadata": {
        "id": "0zBKX0RiC7mp"
      }
    },
    {
      "cell_type": "markdown",
      "source": [
        "**Menentukan Fitur dan Label untuk Pelatihan Model**\n",
        "\n",
        "Pada tahap ini, kolom `clean_content` digunakan sebagai fitur (X) karena sudah melalui proses pembersihan teks.  \n",
        "Sementara itu, kolom `sentimen` digunakan sebagai label (y) dan dikonversi ke bentuk numerik:\n",
        "- `positif` → 2  \n",
        "- `netral` → 1  \n",
        "- `negatif` → 0  \n",
        "Langkah ini penting agar model machine learning dapat mengenali label dalam bentuk angka.\n"
      ],
      "metadata": {
        "id": "8XM54aF4DfLU"
      }
    },
    {
      "cell_type": "code",
      "source": [
        "fitur = df['clean_content']\n",
        "label = df['sentimen'].map({'positif': 2, 'netral': 1, 'negatif': 0})"
      ],
      "metadata": {
        "id": "EDOvArcEl7iX"
      },
      "execution_count": 13,
      "outputs": []
    },
    {
      "cell_type": "markdown",
      "source": [
        "## **Feature Engineering**"
      ],
      "metadata": {
        "id": "qFs32sfGJ3bq"
      }
    },
    {
      "cell_type": "markdown",
      "source": [
        "**Vektorisasi Teks Menggunakan TF-IDF**\n",
        "\n",
        "Pada tahap ini, teks yang telah dibersihkan dikonversi menjadi representasi numerik menggunakan teknik **TF-IDF (Term Frequency–Inverse Document Frequency)**.  \n",
        "TF-IDF akan memberi bobot lebih tinggi pada kata-kata yang unik di setiap dokumen, dan menurunkan bobot untuk kata-kata yang sering muncul di seluruh dokumen.\n",
        "\n",
        "- `TfidfVectorizer(max_features=10000)` digunakan untuk mengambil maksimal 10.000 fitur/kata yang paling penting.\n",
        "- Hasil transformasi berupa matriks vektor dengan dimensi (jumlah data, jumlah fitur terpilih).\n",
        "\n",
        "Langkah ini penting agar model pembelajaran mesin bisa \"membaca\" dan mempelajari pola dari teks ulasan.\n"
      ],
      "metadata": {
        "id": "dEk-aXREJ7Uj"
      }
    },
    {
      "cell_type": "code",
      "source": [
        "# Transformasi teks ke vektor angka menggunakan TF-IDF\n",
        "tfidf = TfidfVectorizer(max_features=10000)\n",
        "fitur_tfidf = tfidf.fit_transform(fitur)\n",
        "\n",
        "# Menampilkan dimensi data hasil vektorisasi\n",
        "print(f\"Dimensi fitur TF-IDF: {fitur_tfidf.shape}\")"
      ],
      "metadata": {
        "colab": {
          "base_uri": "https://localhost:8080/"
        },
        "id": "W5MqSiApKAEW",
        "outputId": "c41e5275-73f1-47e8-d284-98fb2f0d09ad"
      },
      "execution_count": 14,
      "outputs": [
        {
          "output_type": "stream",
          "name": "stdout",
          "text": [
            "Dimensi fitur TF-IDF: (16504, 10000)\n"
          ]
        }
      ]
    },
    {
      "cell_type": "markdown",
      "source": [
        "**Praprocessing Teks untuk Model LSTM**\n",
        "\n",
        "Agar teks ulasan dapat diproses oleh model LSTM (Long Short-Term Memory), teks perlu dikonversi menjadi format numerik yang sesuai, yaitu urutan angka yang merepresentasikan kata.\n",
        "\n",
        "Tahapan preprocessing untuk LSTM:\n",
        "\n",
        "- **Tokenizer** diinisialisasi dan dibatasi hingga 10.000 kata paling sering muncul.\n",
        "- Tokenizer **fit** ke data teks untuk membuat kamus (word index).\n",
        "- Setiap ulasan kemudian diubah menjadi **urutan angka** berdasarkan kamus tersebut.\n",
        "- Panjang urutan diseragamkan menggunakan **padding**, di mana setiap teks dipotong atau ditambahkan nol hingga memiliki panjang yang sama, yaitu **100 kata**.\n",
        "\n",
        "Langkah ini penting agar data input ke model LSTM memiliki bentuk yang konsisten.\n"
      ],
      "metadata": {
        "id": "AHwoiHl5KaNp"
      }
    },
    {
      "cell_type": "code",
      "source": [
        "# Menginisialisasi tokenizer dan membatasi jumlah kata unik0\n",
        "tokenizer = Tokenizer(num_words=10000)\n",
        "\n",
        "# Menyesuaikan tokenizer dengan teks yang sudah dibersihkan\n",
        "tokenizer.fit_on_texts(fitur)\n",
        "\n",
        "# Mengubah teks menjadi urutan angka berdasarkan kamus tokenizer\n",
        "fitur_sekuensial = tokenizer.texts_to_sequences(fitur)\n",
        "\n",
        "# Menyamakan panjang urutan dengan padding\n",
        "fitur_padat = pad_sequences(fitur_sekuensial, maxlen=100)"
      ],
      "metadata": {
        "id": "jyQpIW-gKcsU"
      },
      "execution_count": 15,
      "outputs": []
    },
    {
      "cell_type": "markdown",
      "source": [
        "**Menampilkan Statistik Data untuk Pelatihan Model**"
      ],
      "metadata": {
        "id": "m-sqz5kvKiAY"
      }
    },
    {
      "cell_type": "code",
      "source": [
        "# hitung jumlah kelas sentimen\n",
        "jumlah_kelas_sentimen = len(np.unique(label))\n",
        "print(f\"Jumlah kelas sentimen: {jumlah_kelas_sentimen}\")\n",
        "\n",
        "# Menampilkan dimensi dari fitur hasil padding\n",
        "print(f\"Dimensi urutan fitur: {fitur_padat.shape}\")\n",
        "\n",
        "# Menampilkan ukuran kosa kata dari tokenizer\n",
        "kosa_kata_index = tokenizer.word_index\n",
        "print(f\"\\nBanyak ukuran kosa kata: {len(kosa_kata_index)} kata\")"
      ],
      "metadata": {
        "colab": {
          "base_uri": "https://localhost:8080/"
        },
        "id": "81eSlQBVKjly",
        "outputId": "1f651ab6-1069-4a16-e4f9-ee39248ff00d"
      },
      "execution_count": 16,
      "outputs": [
        {
          "output_type": "stream",
          "name": "stdout",
          "text": [
            "Jumlah kelas sentimen: 3\n",
            "Dimensi urutan fitur: (16504, 100)\n",
            "\n",
            "Banyak ukuran kosa kata: 10372 kata\n"
          ]
        }
      ]
    },
    {
      "cell_type": "markdown",
      "source": [
        "## Model Training & Evaluation"
      ],
      "metadata": {
        "id": "A63uQVHiKpTb"
      }
    },
    {
      "cell_type": "markdown",
      "source": [
        "## **Deep Learning Model (LSTM)**"
      ],
      "metadata": {
        "id": "dudYW_SjKs8S"
      }
    },
    {
      "cell_type": "markdown",
      "source": [
        "**Membagi Dataset untuk Pelatihan, Validasi, dan Pengujian**\n",
        "\n",
        "\n",
        "Pada tahap ini, dataset dibagi menjadi tiga bagian:\n",
        "\n",
        "- **70% untuk data pelatihan**: digunakan untuk melatih model.\n",
        "- **10% (diambil dari 70%) sebagai data validasi**: untuk memantau performa model selama pelatihan dan menghindari overfitting.\n",
        "- **20% sebagai data pengujian**: untuk mengevaluasi kinerja akhir dari model setelah pelatihan.\n",
        "\n",
        "Pembagian ini dilakukan menggunakan fungsi `train_test_split` dari `sklearn`."
      ],
      "metadata": {
        "id": "VesddtqjK0FZ"
      }
    },
    {
      "cell_type": "code",
      "source": [
        "# Membagi data menjadi: pelatihan (70%), pengujian (20%), dan validasi (10%)\n",
        "fitur_latih_lstm, fitur_uji_lstm, label_latih_lstm, label_uji_lstm = train_test_split(\n",
        "    fitur_padat, label, test_size=0.2, random_state=42\n",
        ")\n",
        "\n",
        "fitur_latih_lstm, fitur_validasi_lstm, label_latih_lstm, label_validasi_lstm = train_test_split(\n",
        "    fitur_latih_lstm, label_latih_lstm, test_size=0.125, random_state=42\n",
        ")\n",
        "\n",
        "# Menampilkan jumlah sampel di tiap subset\n",
        "print(\"Jumlah sampel tiap subset:\")\n",
        "print(f\"Set pelatihan: {fitur_latih_lstm.shape[0]} sampel\")\n",
        "print(f\"Set validasi : {fitur_validasi_lstm.shape[0]} sampel\")\n",
        "print(f\"Set pengujian: {fitur_uji_lstm.shape[0]} sampel\")"
      ],
      "metadata": {
        "colab": {
          "base_uri": "https://localhost:8080/"
        },
        "id": "5Cj6dQ81KsNr",
        "outputId": "afde844d-0139-43e8-c782-73a58ec75876"
      },
      "execution_count": 17,
      "outputs": [
        {
          "output_type": "stream",
          "name": "stdout",
          "text": [
            "Jumlah sampel tiap subset:\n",
            "Set pelatihan: 11552 sampel\n",
            "Set validasi : 1651 sampel\n",
            "Set pengujian: 3301 sampel\n"
          ]
        }
      ]
    },
    {
      "cell_type": "markdown",
      "source": [
        "**Membangun dan Melatih Model LSTM untuk Klasifikasi Sentimen**\n",
        "\n",
        "\n",
        "Model LSTM dibangun menggunakan arsitektur sebagai berikut:\n",
        "\n",
        "- `Embedding`: Mengubah kata menjadi representasi vektor berdimensi 128.\n",
        "- `SpatialDropout1D`: Digunakan untuk regularisasi dan mengurangi overfitting.\n",
        "- `LSTM`: Layer utama untuk menangkap hubungan sekuensial antar kata.\n",
        "- `Dense` dengan `softmax`: Untuk klasifikasi ke 3 kelas (negatif, netral, positif).\n",
        "\n",
        "Model disusun menggunakan fungsi loss `sparse_categorical_crossentropy` dan optimizer `Adam`. Untuk mengontrol pelatihan digunakan dua callback:\n",
        "\n",
        "- `EarlyStopping`: Menghentikan pelatihan jika performa validasi tidak membaik.\n",
        "- `ReduceLROnPlateau`: Menurunkan learning rate secara otomatis jika performa validasi stagnan."
      ],
      "metadata": {
        "id": "ClSdcvlbK7i4"
      }
    },
    {
      "cell_type": "code",
      "source": [
        "# membuat model LSTM\n",
        "model_lstm = Sequential([\n",
        "    Embedding(input_dim=10000, output_dim=128, input_length=100),\n",
        "    SpatialDropout1D(0.4),\n",
        "    LSTM(128, dropout=0.3, recurrent_dropout=0.3),\n",
        "    Dense(3, activation='softmax')\n",
        "])\n",
        "\n",
        "# menyusun model dengan loss dan optimizer\n",
        "model_lstm.compile(\n",
        "    loss='sparse_categorical_crossentropy',\n",
        "    optimizer=Adam(),\n",
        "    metrics=['accuracy']\n",
        ")\n",
        "\n",
        "# callback untuk mengontrol pelatihan\n",
        "callback_early_stopping = EarlyStopping(\n",
        "    monitor='val_loss',\n",
        "    patience=2,\n",
        "    restore_best_weights=True\n",
        ")\n",
        "callback_lr_reduction = ReduceLROnPlateau(\n",
        "    monitor='val_loss',\n",
        "    factor=0.5,\n",
        "    patience=2\n",
        ")\n",
        "\n",
        "callbacks = [callback_early_stopping, callback_lr_reduction]\n",
        "\n",
        "# Menjalankan pelatihan model\n",
        "riwayat_latihan = model_lstm.fit(\n",
        "    fitur_latih_lstm, label_latih_lstm,\n",
        "    validation_data=(fitur_validasi_lstm, label_validasi_lstm),\n",
        "    epochs=15,\n",
        "    batch_size=64,\n",
        "    verbose=1,\n",
        "    callbacks=callbacks\n",
        ")"
      ],
      "metadata": {
        "colab": {
          "base_uri": "https://localhost:8080/"
        },
        "id": "i3fksUkZK-Io",
        "outputId": "de2b824f-73e1-450c-9816-1ecc7b7cf66f"
      },
      "execution_count": 18,
      "outputs": [
        {
          "output_type": "stream",
          "name": "stdout",
          "text": [
            "Epoch 1/15\n",
            "\u001b[1m181/181\u001b[0m \u001b[32m━━━━━━━━━━━━━━━━━━━━\u001b[0m\u001b[37m\u001b[0m \u001b[1m63s\u001b[0m 299ms/step - accuracy: 0.5605 - loss: 0.9231 - val_accuracy: 0.8534 - val_loss: 0.4117 - learning_rate: 0.0010\n",
            "Epoch 2/15\n",
            "\u001b[1m181/181\u001b[0m \u001b[32m━━━━━━━━━━━━━━━━━━━━\u001b[0m\u001b[37m\u001b[0m \u001b[1m56s\u001b[0m 311ms/step - accuracy: 0.8742 - loss: 0.3478 - val_accuracy: 0.9285 - val_loss: 0.2225 - learning_rate: 0.0010\n",
            "Epoch 3/15\n",
            "\u001b[1m181/181\u001b[0m \u001b[32m━━━━━━━━━━━━━━━━━━━━\u001b[0m\u001b[37m\u001b[0m \u001b[1m79s\u001b[0m 298ms/step - accuracy: 0.9460 - loss: 0.1672 - val_accuracy: 0.9497 - val_loss: 0.1715 - learning_rate: 0.0010\n",
            "Epoch 4/15\n",
            "\u001b[1m181/181\u001b[0m \u001b[32m━━━━━━━━━━━━━━━━━━━━\u001b[0m\u001b[37m\u001b[0m \u001b[1m54s\u001b[0m 300ms/step - accuracy: 0.9701 - loss: 0.0987 - val_accuracy: 0.9534 - val_loss: 0.1899 - learning_rate: 0.0010\n",
            "Epoch 5/15\n",
            "\u001b[1m181/181\u001b[0m \u001b[32m━━━━━━━━━━━━━━━━━━━━\u001b[0m\u001b[37m\u001b[0m \u001b[1m84s\u001b[0m 309ms/step - accuracy: 0.9804 - loss: 0.0636 - val_accuracy: 0.9649 - val_loss: 0.1465 - learning_rate: 0.0010\n",
            "Epoch 6/15\n",
            "\u001b[1m181/181\u001b[0m \u001b[32m━━━━━━━━━━━━━━━━━━━━\u001b[0m\u001b[37m\u001b[0m \u001b[1m54s\u001b[0m 300ms/step - accuracy: 0.9861 - loss: 0.0412 - val_accuracy: 0.9570 - val_loss: 0.1669 - learning_rate: 0.0010\n",
            "Epoch 7/15\n",
            "\u001b[1m181/181\u001b[0m \u001b[32m━━━━━━━━━━━━━━━━━━━━\u001b[0m\u001b[37m\u001b[0m \u001b[1m55s\u001b[0m 305ms/step - accuracy: 0.9917 - loss: 0.0267 - val_accuracy: 0.9612 - val_loss: 0.1493 - learning_rate: 0.0010\n"
          ]
        }
      ]
    },
    {
      "cell_type": "markdown",
      "source": [
        "**Evaluasi dan Visualisasi Performa Model LSTM**\n",
        "\n",
        "Setelah pelatihan selesai, dilakukan evaluasi terhadap:\n",
        "\n",
        "- **Akurasi pelatihan** di epoch terakhir.\n",
        "- **Akurasi pengujian** pada data uji.\n",
        "\n",
        "Dilakukan juga:\n",
        "\n",
        "- **Prediksi terhadap data uji.**\n",
        "- **Perhitungan metrik evaluasi** seperti precision, recall, dan f1-score menggunakan `classification_report`.\n",
        "- **Visualisasi** perkembangan loss dan akurasi pada data pelatihan dan validasi selama epoch berlangsung.\n",
        "\n",
        "---"
      ],
      "metadata": {
        "id": "DCdhJaTLNN7t"
      }
    },
    {
      "cell_type": "code",
      "source": [
        "# mengambil nilai akurasi terakhir\n",
        "akurasi_latih = riwayat_latihan.history['accuracy']\n",
        "\n",
        "# mengevaluasi data pengujian\n",
        "kerugian_uji, akurasi_lstm = model_lstm.evaluate(fitur_uji_lstm, label_uji_lstm)\n",
        "\n",
        "# menampilkan hasil evaluasi\n",
        "print(\"\\nEvaluasi Model LSTM\")\n",
        "print(f\"Akurasi pelatihan per epoch terakhir: {akurasi_latih[-1]:.4f}\")\n",
        "print(f\"Akurasi pengujian akhir: {akurasi_lstm:.4f}\")\n",
        "\n",
        "# Prediksi terhadap data uji\n",
        "y_prediksi = np.argmax(model_lstm.predict(fitur_uji_lstm), axis=1)\n",
        "\n",
        "# laporan klasifikasi berdasarkan label\n",
        "print(\"\\nLaporan Klasifikasi tiap label:\")\n",
        "print(classification_report(label_uji_lstm, y_prediksi, target_names=['negatif', 'netral', 'positif']))\n",
        "plt.figure(figsize=(8, 6))\n",
        "plt.subplot(1, 2, 1)\n",
        "plt.plot(riwayat_latihan.history['loss'], label='Loss Pelatihan')\n",
        "plt.plot(riwayat_latihan.history['val_loss'], label='Loss Validasi')\n",
        "plt.title('Perkembangan Loss Selama Pelatihan')\n",
        "plt.xlabel('Epoch')\n",
        "plt.ylabel('Loss')\n",
        "plt.legend()\n",
        "plt.subplot(1, 2, 2)\n",
        "plt.plot(riwayat_latihan.history['accuracy'], label='Akurasi Pelatihan')\n",
        "plt.plot(riwayat_latihan.history['val_accuracy'], label='Akurasi Validasi')\n",
        "plt.title('Perkembangan Akurasi Selama Pelatihan')\n",
        "plt.xlabel('Epoch')\n",
        "plt.ylabel('Akurasi')\n",
        "plt.legend()\n",
        "\n",
        "plt.tight_layout()\n",
        "plt.show()"
      ],
      "metadata": {
        "colab": {
          "base_uri": "https://localhost:8080/",
          "height": 946
        },
        "id": "8kC7ZkliNOtq",
        "outputId": "bf3d5843-39b5-43e6-ab55-6d9c9b2a12d9"
      },
      "execution_count": 19,
      "outputs": [
        {
          "output_type": "stream",
          "name": "stdout",
          "text": [
            "\u001b[1m104/104\u001b[0m \u001b[32m━━━━━━━━━━━━━━━━━━━━\u001b[0m\u001b[37m\u001b[0m \u001b[1m4s\u001b[0m 35ms/step - accuracy: 0.9601 - loss: 0.1460\n",
            "\n",
            "Evaluasi Model LSTM\n",
            "Akurasi pelatihan per epoch terakhir: 0.9923\n",
            "Akurasi pengujian akhir: 0.9540\n",
            "\u001b[1m104/104\u001b[0m \u001b[32m━━━━━━━━━━━━━━━━━━━━\u001b[0m\u001b[37m\u001b[0m \u001b[1m5s\u001b[0m 44ms/step\n",
            "\n",
            "Laporan Klasifikasi tiap label:\n",
            "              precision    recall  f1-score   support\n",
            "\n",
            "     negatif       0.98      0.93      0.95      1019\n",
            "      netral       0.94      0.97      0.96      1712\n",
            "     positif       0.94      0.94      0.94       570\n",
            "\n",
            "    accuracy                           0.95      3301\n",
            "   macro avg       0.96      0.95      0.95      3301\n",
            "weighted avg       0.95      0.95      0.95      3301\n",
            "\n"
          ]
        },
        {
          "output_type": "display_data",
          "data": {
            "text/plain": [
              "<Figure size 800x600 with 2 Axes>"
            ],
            "image/png": "[encoded data removed]"
          },
          "metadata": {}
        }
      ]
    },
    {
      "cell_type": "markdown",
      "source": [
        "**Visualisasi Confusion Matrix Model LSTM**\n",
        "\n",
        "Confusion matrix digunakan untuk melihat performa klasifikasi model terhadap masing-masing label (negatif, netral, positif).\n",
        "\n",
        "- Matriks ditampilkan dalam bentuk **heatmap**.\n",
        "- Membantu melihat **kesalahan model** saat memprediksi suatu kelas."
      ],
      "metadata": {
        "id": "wxfsiIqSNYtF"
      }
    },
    {
      "cell_type": "code",
      "source": [
        "# membuat confusion matrix\n",
        "matriks_konfusi = confusion_matrix(label_uji_lstm, y_prediksi)\n",
        "\n",
        "# menentukan label kelas\n",
        "label_kategori = ['Negatif', 'Netral', 'Positif']\n",
        "\n",
        "# menampilkan visualisasi confusion matrix dengan heatmap\n",
        "plt.figure(figsize=(6, 5))\n",
        "sns.heatmap(matriks_konfusi, annot=True, fmt='d', cmap='Blues',\n",
        "            xticklabels=label_kategori, yticklabels=label_kategori)\n",
        "plt.title('Confusion Matrix Sentimen')\n",
        "plt.xlabel('Prediksi')\n",
        "plt.ylabel('Aktual')\n",
        "plt.tight_layout()\n",
        "plt.show()"
      ],
      "metadata": {
        "colab": {
          "base_uri": "https://localhost:8080/",
          "height": 507
        },
        "id": "KMh_SNbhNaeW",
        "outputId": "68a223fb-f5b6-4593-a880-e7ac05f6bae1"
      },
      "execution_count": 20,
      "outputs": [
        {
          "output_type": "display_data",
          "data": {
            "text/plain": [
              "<Figure size 600x500 with 2 Axes>"
            ],
            "image/png": "[encoded data removed]"
          },
          "metadata": {}
        }
      ]
    },
    {
      "cell_type": "markdown",
      "source": [
        "**Menghitung Akurasi, Precision, Recall, dan F1-score dari Confusion Matrix**\n",
        "\n",
        "Perhitungan metrik dilakukan secara manual untuk masing-masing kelas berdasarkan confusion matrix:\n",
        "\n",
        "- **Precision**: Proporsi prediksi benar terhadap total prediksi kelas tersebut.\n",
        "- **Recall**: Proporsi prediksi benar terhadap total data aktual kelas tersebut.\n",
        "- **F1-score**: Rata-rata harmonik dari precision dan recall.\n",
        "- **Akurasi total**: Jumlah prediksi benar dibagi total seluruh prediksi."
      ],
      "metadata": {
        "id": "SxUomp1ONedn"
      }
    },
    {
      "cell_type": "code",
      "source": [
        "# mengmbil nilai dari confusion matrix\n",
        "TN, FP, FN, TP = None, None, None, None\n",
        "# mengambil nilai matrix\n",
        "cm = confusion_matrix(label_uji_lstm, y_prediksi)\n",
        "print(\"Confusion Matrix:\")\n",
        "print(cm)\n",
        "\n",
        "# mengitung metrik per kelas\n",
        "for i, kelas in enumerate(['Negatif', 'Netral', 'Positif']):\n",
        "    TP = cm[i, i]\n",
        "    FP = cm[:, i].sum() - TP\n",
        "    FN = cm[i, :].sum() - TP\n",
        "    TN = cm.sum() - (TP + FP + FN)\n",
        "\n",
        "    precision = TP / (TP + FP) if (TP + FP) != 0 else 0\n",
        "    recall = TP / (TP + FN) if (TP + FN) != 0 else 0\n",
        "    f1 = 2 * precision * recall / (precision + recall) if (precision + recall) != 0 else 0\n",
        "\n",
        "    print(f\"\\nKelas {kelas}\")\n",
        "    print(f\"  Precision: {precision:.4f}\")\n",
        "    print(f\"  Recall:    {recall:.4f}\")\n",
        "    print(f\"  F1-score:  {f1:.4f}\")\n",
        "\n",
        "# menhitung akurasi keseluruhan\n",
        "akurasi_total = np.trace(cm) / np.sum(cm)\n",
        "print(f\"\\nAkurasi Keseluruhan: {akurasi_total:.4f}\")"
      ],
      "metadata": {
        "colab": {
          "base_uri": "https://localhost:8080/"
        },
        "id": "x_pIiecANg7Z",
        "outputId": "f80a3ee9-8fe2-41ce-d357-094bb3a78159"
      },
      "execution_count": 21,
      "outputs": [
        {
          "output_type": "stream",
          "name": "stdout",
          "text": [
            "Confusion Matrix:\n",
            "[[ 951   66    2]\n",
            " [  21 1661   30]\n",
            " [   1   32  537]]\n",
            "\n",
            "Kelas Negatif\n",
            "  Precision: 0.9774\n",
            "  Recall:    0.9333\n",
            "  F1-score:  0.9548\n",
            "\n",
            "Kelas Netral\n",
            "  Precision: 0.9443\n",
            "  Recall:    0.9702\n",
            "  F1-score:  0.9571\n",
            "\n",
            "Kelas Positif\n",
            "  Precision: 0.9438\n",
            "  Recall:    0.9421\n",
            "  F1-score:  0.9429\n",
            "\n",
            "Akurasi Keseluruhan: 0.9540\n"
          ]
        }
      ]
    },
    {
      "cell_type": "markdown",
      "source": [
        "##**Traditional Machine Learning Models**"
      ],
      "metadata": {
        "id": "zAh3cK_dNtSE"
      }
    },
    {
      "cell_type": "markdown",
      "source": [
        "**Membagi Data Pelatihan dan Pengujian**"
      ],
      "metadata": {
        "id": "nDeyoW0KNxXf"
      }
    },
    {
      "cell_type": "code",
      "source": [
        "X_latih_svm, X_uji_svm, y_latih_svm, y_uji_svm = train_test_split(fitur_tfidf, label, test_size=0.2, random_state=42)\n",
        "\n",
        "print(\"Jumlah Sampel tiap subset:\")\n",
        "print(f\"Set pelatihan: {X_latih_svm.shape[0]} sampel\")\n",
        "print(f\"Set pengujian: {X_uji_svm.shape[0]} sampel\")"
      ],
      "metadata": {
        "colab": {
          "base_uri": "https://localhost:8080/"
        },
        "id": "aOc9No4tN3No",
        "outputId": "7466574d-046e-4e97-9685-4e3952a02f8c"
      },
      "execution_count": 22,
      "outputs": [
        {
          "output_type": "stream",
          "name": "stdout",
          "text": [
            "Jumlah Sampel tiap subset:\n",
            "Set pelatihan: 13203 sampel\n",
            "Set pengujian: 3301 sampel\n"
          ]
        }
      ]
    },
    {
      "cell_type": "markdown",
      "source": [
        "**Pelatihan dan Prediksi Model SVM**\n",
        "\n",
        "- Dataset dibagi menjadi **80% pelatihan** dan **20% pengujian**.\n",
        "- Data diubah menjadi fitur TF-IDF sebagai input ke model.\n",
        "- Model yang digunakan adalah **Support Vector Machine (SVM)** dengan kernel linear.\n",
        "- Setelah pelatihan, model diuji dan hasil dievaluasi menggunakan:\n",
        "  - **Akurasi**\n",
        "  - **Classification report**\n",
        "  - **Visualisasi confusion matrix**"
      ],
      "metadata": {
        "id": "Y3abpesoN6w4"
      }
    },
    {
      "cell_type": "code",
      "source": [
        "model_svm = SVC(kernel='linear', probability=True)\n",
        "\n",
        "# melatih model\n",
        "model_svm.fit(X_latih_svm, y_latih_svm)\n",
        "\n",
        "# melakukan Prediksi\n",
        "y_pred_svm = model_svm.predict(X_uji_svm)"
      ],
      "metadata": {
        "id": "S_QdjE4lN8rj"
      },
      "execution_count": 23,
      "outputs": []
    },
    {
      "cell_type": "markdown",
      "source": [
        "**Evaluasi Model SVM Berbasis TF-IDF**"
      ],
      "metadata": {
        "id": "fIAzXbOCOBwP"
      }
    },
    {
      "cell_type": "code",
      "source": [
        "akurasi_latih_svm = accuracy_score(y_latih_svm, model_svm.predict(X_latih_svm))\n",
        "akurasi_svm = accuracy_score(y_uji_svm, y_pred_svm)\n",
        "\n",
        "print(\"\\nEvaluasi Model SVM + TF-IDF\")\n",
        "print(f'\\nAkurasi Latih: {akurasi_latih_svm:.4f}')\n",
        "print(f'Akurasi Uji: {akurasi_svm:.4f}')\n",
        "\n",
        "print(\"\\nLaporan Klasifikasi:\")\n",
        "print(classification_report(y_uji_svm, y_pred_svm, target_names=['negatif', 'netral', 'positif']))\n",
        "\n",
        "# visualisasi\n",
        "plt.figure(figsize=(8, 6))\n",
        "cm = confusion_matrix(y_uji_svm, y_pred_svm)\n",
        "sns.heatmap(cm, annot=True, fmt='d', cmap='Blues', xticklabels=['negatif', 'netral', 'positif'],\n",
        "            yticklabels=['negatif', 'netral', 'positif'])\n",
        "plt.title('Confusion Matrix SVM')\n",
        "plt.xlabel('Prediksi')\n",
        "plt.ylabel('Aktual')\n",
        "plt.tight_layout()\n",
        "plt.show()"
      ],
      "metadata": {
        "colab": {
          "base_uri": "https://localhost:8080/",
          "height": 927
        },
        "id": "d0M283LqOEMu",
        "outputId": "aa46a327-1a8c-45ff-8841-f40d1d0d25c5"
      },
      "execution_count": 24,
      "outputs": [
        {
          "output_type": "stream",
          "name": "stdout",
          "text": [
            "\n",
            "Evaluasi Model SVM + TF-IDF\n",
            "\n",
            "Akurasi Latih: 0.9656\n",
            "Akurasi Uji: 0.9243\n",
            "\n",
            "Laporan Klasifikasi:\n",
            "              precision    recall  f1-score   support\n",
            "\n",
            "     negatif       0.97      0.88      0.93      1019\n",
            "      netral       0.90      0.97      0.93      1712\n",
            "     positif       0.94      0.86      0.90       570\n",
            "\n",
            "    accuracy                           0.92      3301\n",
            "   macro avg       0.94      0.91      0.92      3301\n",
            "weighted avg       0.93      0.92      0.92      3301\n",
            "\n"
          ]
        },
        {
          "output_type": "display_data",
          "data": {
            "text/plain": [
              "<Figure size 800x600 with 2 Axes>"
            ],
            "image/png": "[encoded data removed]"
          },
          "metadata": {}
        }
      ]
    },
    {
      "cell_type": "markdown",
      "source": [
        "## **Random Forest + TF-IDF (70/30)**"
      ],
      "metadata": {
        "id": "2GRWM_3gOVpE"
      }
    },
    {
      "cell_type": "markdown",
      "source": [
        "**Membagi Data Pelatihan dan Pengujian**"
      ],
      "metadata": {
        "id": "B0vu53zwOdRW"
      }
    },
    {
      "cell_type": "code",
      "source": [
        "# Bagi Data menjadi Set Latih dan Set Uji (70% Latih, 30% Uji)\n",
        "X_latih_rf, X_uji_rf, y_latih_rf, y_uji_rf = train_test_split(fitur_tfidf, label, test_size=0.3, random_state=42)\n",
        "\n",
        "print(\"Jumlah Sampel: \")\n",
        "print(f\"Set Latih: {X_latih_rf.shape[0]} sampel\")\n",
        "print(f\"Set Uji: {X_uji_rf.shape[0]} sampel\")\n"
      ],
      "metadata": {
        "colab": {
          "base_uri": "https://localhost:8080/"
        },
        "id": "bS3AwVTDOgNL",
        "outputId": "4fc2b9cf-8be5-4bd7-985c-dd08aacdccd1"
      },
      "execution_count": 25,
      "outputs": [
        {
          "output_type": "stream",
          "name": "stdout",
          "text": [
            "Jumlah Sampel: \n",
            "Set Latih: 11552 sampel\n",
            "Set Uji: 4952 sampel\n"
          ]
        }
      ]
    },
    {
      "cell_type": "markdown",
      "source": [
        "**Inisialisasi dan Pelatihan Model Random Forest untuk Klasifikasi Sentimen**\n",
        "\n",
        "- Dataset dibagi menjadi **70% pelatihan** dan **30% pengujian**.\n",
        "- Data diubah menggunakan representasi TF-IDF.\n",
        "- Model yang digunakan adalah **Random Forest Classifier** dengan parameter:\n",
        "  - `n_estimators=300`\n",
        "  - `min_samples_split=5`\n",
        "  - `min_samples_leaf=2`\n",
        "- Evaluasi dilakukan dengan:\n",
        "  - **Akurasi pada data latih dan uji**\n",
        "  - **Classification report**\n",
        "  - **Visualisasi confusion matrix**"
      ],
      "metadata": {
        "id": "t_70zaLjOlGd"
      }
    },
    {
      "cell_type": "code",
      "source": [
        "# Inisialisasi Model Random Forest dengan Penyesuaian Hyperparameter\n",
        "rf_model = RandomForestClassifier(\n",
        "    n_estimators=300,\n",
        "    max_depth=None,\n",
        "    min_samples_split=5,\n",
        "    min_samples_leaf=2,\n",
        "    random_state=42\n",
        ")\n",
        "\n",
        "# Latih Model\n",
        "rf_model.fit(X_latih_rf, y_latih_rf)\n",
        "\n",
        "# Lakukan Prediksi\n",
        "y_pred_rf = rf_model.predict(X_uji_rf)"
      ],
      "metadata": {
        "id": "bdu5Qwd9OoTR"
      },
      "execution_count": 26,
      "outputs": []
    },
    {
      "cell_type": "markdown",
      "source": [
        "**Evaluasi Model Random Forest dengan Representasi TF-IDF**"
      ],
      "metadata": {
        "id": "-3MhA8JDOu1a"
      }
    },
    {
      "cell_type": "code",
      "source": [
        "# Evaluasi Model\n",
        "akurat_latih = accuracy_score(y_latih_rf, rf_model.predict(X_latih_rf))\n",
        "akurat_uji_rf = accuracy_score(y_uji_rf, y_pred_rf)\n",
        "\n",
        "print(\"\\nEvaluasi Model Random Forest dengan TF-IDF\")\n",
        "print(f\"Akurasi Latih: {akurat_latih:.4f}\")\n",
        "print(f\"Akurasi Uji: {akurat_uji_rf:.4f}\")\n",
        "\n",
        "print(\"\\nLaporan Klasifikasi:\")\n",
        "print(classification_report(y_uji_rf, y_pred_rf, target_names=['negatif', 'netral', 'positif']))\n",
        "\n",
        "# Plot Confusion Matrix\n",
        "plt.figure(figsize=(8, 6))\n",
        "cm = confusion_matrix(y_uji_rf, y_pred_rf)\n",
        "sns.heatmap(cm, annot=True, fmt='d', cmap='Blues',\n",
        "            xticklabels=['negatif', 'netral', 'positif'],\n",
        "            yticklabels=['negatif', 'netral', 'positif'])\n",
        "plt.title('Confusion Matrix Random Forest')\n",
        "plt.xlabel('Prediksi')\n",
        "plt.ylabel('Aktual')\n",
        "plt.tight_layout()\n",
        "plt.show()"
      ],
      "metadata": {
        "colab": {
          "base_uri": "https://localhost:8080/",
          "height": 908
        },
        "id": "FAlCYshaOyA_",
        "outputId": "c8971a78-cc94-47d6-c4f5-d2029063a186"
      },
      "execution_count": 27,
      "outputs": [
        {
          "output_type": "stream",
          "name": "stdout",
          "text": [
            "\n",
            "Evaluasi Model Random Forest dengan TF-IDF\n",
            "Akurasi Latih: 0.9027\n",
            "Akurasi Uji: 0.8465\n",
            "\n",
            "Laporan Klasifikasi:\n",
            "              precision    recall  f1-score   support\n",
            "\n",
            "     negatif       0.87      0.85      0.86      1537\n",
            "      netral       0.83      0.89      0.86      2532\n",
            "     positif       0.86      0.69      0.77       883\n",
            "\n",
            "    accuracy                           0.85      4952\n",
            "   macro avg       0.85      0.81      0.83      4952\n",
            "weighted avg       0.85      0.85      0.84      4952\n",
            "\n"
          ]
        },
        {
          "output_type": "display_data",
          "data": {
            "text/plain": [
              "<Figure size 800x600 with 2 Axes>"
            ],
            "image/png": "[encoded data removed]"
          },
          "metadata": {}
        }
      ]
    },
    {
      "cell_type": "markdown",
      "source": [
        "**Hyperparameter Tuning untuk Random Forest**\n",
        "\n",
        "- Menggunakan **RandomizedSearchCV** untuk mencari kombinasi parameter terbaik pada Random Forest:\n",
        "  - Dicoba berbagai nilai `n_estimators`, `max_depth`, `min_samples_split`, `min_samples_leaf`, dan `max_features`.\n",
        "- Dilakukan cross-validation untuk mendapatkan model terbaik (`best_rf`).\n",
        "- Model terbaik kemudian diuji ulang pada data uji untuk mendapatkan performa optimal.\n"
      ],
      "metadata": {
        "id": "29BecEVv1Yv9"
      }
    },
    {
      "cell_type": "code",
      "source": [
        "param_dist = {\n",
        "    'n_estimators': [100, 200],\n",
        "    'max_depth': [20, None],\n",
        "    'min_samples_split': [2, 5],\n",
        "    'min_samples_leaf': [1, 2],\n",
        "    'max_features': ['sqrt']\n",
        "}\n",
        "\n",
        "rf = RandomForestClassifier(random_state=42, class_weight='balanced')\n",
        "\n",
        "rand_search = RandomizedSearchCV(\n",
        "    estimator=rf,\n",
        "    param_distributions=param_dist,\n",
        "    n_iter=5,\n",
        "    cv=2,\n",
        "    verbose=1,\n",
        "    n_jobs=-1,\n",
        "    random_state=42\n",
        ")\n",
        "\n",
        "rand_search.fit(X_latih_rf, y_latih_rf)\n",
        "\n",
        "best_rf = rand_search.best_estimator_\n"
      ],
      "metadata": {
        "colab": {
          "base_uri": "https://localhost:8080/"
        },
        "id": "YrEdeBtlvUwO",
        "outputId": "f1f0cb94-58a8-4ce3-8ffd-7b8877964419"
      },
      "execution_count": 28,
      "outputs": [
        {
          "output_type": "stream",
          "name": "stdout",
          "text": [
            "Fitting 2 folds for each of 5 candidates, totalling 10 fits\n"
          ]
        }
      ]
    },
    {
      "cell_type": "code",
      "source": [
        "y_pred_rf = best_rf.predict(X_uji_rf)\n",
        "\n",
        "print(\"Akurasi Uji:\", accuracy_score(y_uji_rf, y_pred_rf))\n",
        "print(\"\\nLaporan Klasifikasi:\")\n",
        "print(classification_report(y_uji_rf, y_pred_rf, target_names=['negatif', 'netral', 'positif']))\n"
      ],
      "metadata": {
        "colab": {
          "base_uri": "https://localhost:8080/"
        },
        "id": "Nonm66LwwmoZ",
        "outputId": "5c74f7ba-4250-4e6c-86a7-89b6af44e0a8"
      },
      "execution_count": 29,
      "outputs": [
        {
          "output_type": "stream",
          "name": "stdout",
          "text": [
            "Akurasi Uji: 0.8655088852988692\n",
            "\n",
            "Laporan Klasifikasi:\n",
            "              precision    recall  f1-score   support\n",
            "\n",
            "     negatif       0.86      0.88      0.87      1537\n",
            "      netral       0.89      0.86      0.88      2532\n",
            "     positif       0.81      0.85      0.83       883\n",
            "\n",
            "    accuracy                           0.87      4952\n",
            "   macro avg       0.85      0.86      0.86      4952\n",
            "weighted avg       0.87      0.87      0.87      4952\n",
            "\n"
          ]
        }
      ]
    },
    {
      "cell_type": "markdown",
      "source": [
        "## **Perbandingan Performa Model**"
      ],
      "metadata": {
        "id": "TXZt6qEIO4F6"
      }
    },
    {
      "cell_type": "code",
      "source": [
        "# hasil akurasi Random Forest terbaru (setelah tuning)\n",
        "akurasi_rf_tuned = accuracy_score(y_uji_rf, best_rf.predict(X_uji_rf))\n",
        "# Update ringkasan performa model\n",
        "ringkasan = {\n",
        "    'Model': ['LSTM + Embedding (80/20)', 'SVM + TF-IDF (80/20)', 'Random Forest + TF-IDF (80/20)'],\n",
        "    'Akurasi': [akurasi_lstm, akurasi_svm, akurasi_rf_tuned],\n",
        "}\n",
        "\n",
        "# Konversi ke DataFrame\n",
        "df_ringkasan = pd.DataFrame(ringkasan)\n",
        "\n",
        "# Format akurasi jadi persen\n",
        "df_ringkasan['Akurasi'] = df_ringkasan['Akurasi'].apply(lambda x: f\"{x:.2%}\")\n",
        "\n",
        "# Tampilkan tabel ringkasan\n",
        "print(\"Perbandingan Hasil Evaluasi Model\")\n",
        "display(df_ringkasan)\n"
      ],
      "metadata": {
        "colab": {
          "base_uri": "https://localhost:8080/",
          "height": 163
        },
        "id": "qd3aok0yO7jT",
        "outputId": "29736876-8f81-4a1d-9ac0-3b08e3bb5291"
      },
      "execution_count": 30,
      "outputs": [
        {
          "output_type": "stream",
          "name": "stdout",
          "text": [
            "Perbandingan Hasil Evaluasi Model\n"
          ]
        },
        {
          "output_type": "display_data",
          "data": {
            "text/plain": [
              "                            Model Akurasi\n",
              "0        LSTM + Embedding (80/20)  95.40%\n",
              "1            SVM + TF-IDF (80/20)  92.43%\n",
              "2  Random Forest + TF-IDF (80/20)  86.55%"
            ],
            "text/html": [
              "\n",
              "  <div id=\"df-a2271d5c-7d66-494d-9fd6-fd2ca4b57109\" class=\"colab-df-container\">\n",
              "    <div>\n",
              "<style scoped>\n",
              "    .dataframe tbody tr th:only-of-type {\n",
              "        vertical-align: middle;\n",
              "    }\n",
              "\n",
              "    .dataframe tbody tr th {\n",
              "        vertical-align: top;\n",
              "    }\n",
              "\n",
              "    .dataframe thead th {\n",
              "        text-align: right;\n",
              "    }\n",
              "</style>\n",
              "<table border=\"1\" class=\"dataframe\">\n",
              "  <thead>\n",
              "    <tr style=\"text-align: right;\">\n",
              "      <th></th>\n",
              "      <th>Model</th>\n",
              "      <th>Akurasi</th>\n",
              "    </tr>\n",
              "  </thead>\n",
              "  <tbody>\n",
              "    <tr>\n",
              "      <th>0</th>\n",
              "      <td>LSTM + Embedding (80/20)</td>\n",
              "      <td>95.40%</td>\n",
              "    </tr>\n",
              "    <tr>\n",
              "      <th>1</th>\n",
              "      <td>SVM + TF-IDF (80/20)</td>\n",
              "      <td>92.43%</td>\n",
              "    </tr>\n",
              "    <tr>\n",
              "      <th>2</th>\n",
              "      <td>Random Forest + TF-IDF (80/20)</td>\n",
              "      <td>86.55%</td>\n",
              "    </tr>\n",
              "  </tbody>\n",
              "</table>\n",
              "</div>\n",
              "    <div class=\"colab-df-buttons\">\n",
              "\n",
              "  <div class=\"colab-df-container\">\n",
              "    <button class=\"colab-df-convert\" onclick=\"convertToInteractive('df-a2271d5c-7d66-494d-9fd6-fd2ca4b57109')\"\n",
              "            title=\"Convert this dataframe to an interactive table.\"\n",
              "            style=\"display:none;\">\n",
              "\n",
              "  <svg xmlns=\"http://www.w3.org/2000/svg\" height=\"24px\" viewBox=\"0 -960 960 960\">\n",
              "    <path d=\"M120-120v-720h720v720H120Zm60-500h600v-160H180v160Zm220 220h160v-160H400v160Zm0 220h160v-160H400v160ZM180-400h160v-160H180v160Zm440 0h160v-160H620v160ZM180-180h160v-160H180v160Zm440 0h160v-160H620v160Z\"/>\n",
              "  </svg>\n",
              "    </button>\n",
              "\n",
              "  <style>\n",
              "    .colab-df-container {\n",
              "      display:flex;\n",
              "      gap: 12px;\n",
              "    }\n",
              "\n",
              "    .colab-df-convert {\n",
              "      background-color: #E8F0FE;\n",
              "      border: none;\n",
              "      border-radius: 50%;\n",
              "      cursor: pointer;\n",
              "      display: none;\n",
              "      fill: #1967D2;\n",
              "      height: 32px;\n",
              "      padding: 0 0 0 0;\n",
              "      width: 32px;\n",
              "    }\n",
              "\n",
              "    .colab-df-convert:hover {\n",
              "      background-color: #E2EBFA;\n",
              "      box-shadow: 0px 1px 2px rgba(60, 64, 67, 0.3), 0px 1px 3px 1px rgba(60, 64, 67, 0.15);\n",
              "      fill: #174EA6;\n",
              "    }\n",
              "\n",
              "    .colab-df-buttons div {\n",
              "      margin-bottom: 4px;\n",
              "    }\n",
              "\n",
              "    [theme=dark] .colab-df-convert {\n",
              "      background-color: #3B4455;\n",
              "      fill: #D2E3FC;\n",
              "    }\n",
              "\n",
              "    [theme=dark] .colab-df-convert:hover {\n",
              "      background-color: #434B5C;\n",
              "      box-shadow: 0px 1px 3px 1px rgba(0, 0, 0, 0.15);\n",
              "      filter: drop-shadow(0px 1px 2px rgba(0, 0, 0, 0.3));\n",
              "      fill: #FFFFFF;\n",
              "    }\n",
              "  </style>\n",
              "\n",
              "    <script>\n",
              "      const buttonEl =\n",
              "        document.querySelector('#df-a2271d5c-7d66-494d-9fd6-fd2ca4b57109 button.colab-df-convert');\n",
              "      buttonEl.style.display =\n",
              "        google.colab.kernel.accessAllowed ? 'block' : 'none';\n",
              "\n",
              "      async function convertToInteractive(key) {\n",
              "        const element = document.querySelector('#df-a2271d5c-7d66-494d-9fd6-fd2ca4b57109');\n",
              "        const dataTable =\n",
              "          await google.colab.kernel.invokeFunction('convertToInteractive',\n",
              "                                                    [key], {});\n",
              "        if (!dataTable) return;\n",
              "\n",
              "        const docLinkHtml = 'Like what you see? Visit the ' +\n",
              "          '<a target=\"_blank\" href=https://colab.research.google.com/notebooks/data_table.ipynb>data table notebook</a>'\n",
              "          + ' to learn more about interactive tables.';\n",
              "        element.innerHTML = '';\n",
              "        dataTable['output_type'] = 'display_data';\n",
              "        await google.colab.output.renderOutput(dataTable, element);\n",
              "        const docLink = document.createElement('div');\n",
              "        docLink.innerHTML = docLinkHtml;\n",
              "        element.appendChild(docLink);\n",
              "      }\n",
              "    </script>\n",
              "  </div>\n",
              "\n",
              "\n",
              "<div id=\"df-443d5749-33a0-406c-9b8c-f0c65f6c959b\">\n",
              "  <button class=\"colab-df-quickchart\" onclick=\"quickchart('df-443d5749-33a0-406c-9b8c-f0c65f6c959b')\"\n",
              "            title=\"Suggest charts\"\n",
              "            style=\"display:none;\">\n",
              "\n",
              "<svg xmlns=\"http://www.w3.org/2000/svg\" height=\"24px\"viewBox=\"0 0 24 24\"\n",
              "     width=\"24px\">\n",
              "    <g>\n",
              "        <path d=\"M19 3H5c-1.1 0-2 .9-2 2v14c0 1.1.9 2 2 2h14c1.1 0 2-.9 2-2V5c0-1.1-.9-2-2-2zM9 17H7v-7h2v7zm4 0h-2V7h2v10zm4 0h-2v-4h2v4z\"/>\n",
              "    </g>\n",
              "</svg>\n",
              "  </button>\n",
              "\n",
              "<style>\n",
              "  .colab-df-quickchart {\n",
              "      --bg-color: #E8F0FE;\n",
              "      --fill-color: #1967D2;\n",
              "      --hover-bg-color: #E2EBFA;\n",
              "      --hover-fill-color: #174EA6;\n",
              "      --disabled-fill-color: #AAA;\n",
              "      --disabled-bg-color: #DDD;\n",
              "  }\n",
              "\n",
              "  [theme=dark] .colab-df-quickchart {\n",
              "      --bg-color: #3B4455;\n",
              "      --fill-color: #D2E3FC;\n",
              "      --hover-bg-color: #434B5C;\n",
              "      --hover-fill-color: #FFFFFF;\n",
              "      --disabled-bg-color: #3B4455;\n",
              "      --disabled-fill-color: #666;\n",
              "  }\n",
              "\n",
              "  .colab-df-quickchart {\n",
              "    background-color: var(--bg-color);\n",
              "    border: none;\n",
              "    border-radius: 50%;\n",
              "    cursor: pointer;\n",
              "    display: none;\n",
              "    fill: var(--fill-color);\n",
              "    height: 32px;\n",
              "    padding: 0;\n",
              "    width: 32px;\n",
              "  }\n",
              "\n",
              "  .colab-df-quickchart:hover {\n",
              "    background-color: var(--hover-bg-color);\n",
              "    box-shadow: 0 1px 2px rgba(60, 64, 67, 0.3), 0 1px 3px 1px rgba(60, 64, 67, 0.15);\n",
              "    fill: var(--button-hover-fill-color);\n",
              "  }\n",
              "\n",
              "  .colab-df-quickchart-complete:disabled,\n",
              "  .colab-df-quickchart-complete:disabled:hover {\n",
              "    background-color: var(--disabled-bg-color);\n",
              "    fill: var(--disabled-fill-color);\n",
              "    box-shadow: none;\n",
              "  }\n",
              "\n",
              "  .colab-df-spinner {\n",
              "    border: 2px solid var(--fill-color);\n",
              "    border-color: transparent;\n",
              "    border-bottom-color: var(--fill-color);\n",
              "    animation:\n",
              "      spin 1s steps(1) infinite;\n",
              "  }\n",
              "\n",
              "  @keyframes spin {\n",
              "    0% {\n",
              "      border-color: transparent;\n",
              "      border-bottom-color: var(--fill-color);\n",
              "      border-left-color: var(--fill-color);\n",
              "    }\n",
              "    20% {\n",
              "      border-color: transparent;\n",
              "      border-left-color: var(--fill-color);\n",
              "      border-top-color: var(--fill-color);\n",
              "    }\n",
              "    30% {\n",
              "      border-color: transparent;\n",
              "      border-left-color: var(--fill-color);\n",
              "      border-top-color: var(--fill-color);\n",
              "      border-right-color: var(--fill-color);\n",
              "    }\n",
              "    40% {\n",
              "      border-color: transparent;\n",
              "      border-right-color: var(--fill-color);\n",
              "      border-top-color: var(--fill-color);\n",
              "    }\n",
              "    60% {\n",
              "      border-color: transparent;\n",
              "      border-right-color: var(--fill-color);\n",
              "    }\n",
              "    80% {\n",
              "      border-color: transparent;\n",
              "      border-right-color: var(--fill-color);\n",
              "      border-bottom-color: var(--fill-color);\n",
              "    }\n",
              "    90% {\n",
              "      border-color: transparent;\n",
              "      border-bottom-color: var(--fill-color);\n",
              "    }\n",
              "  }\n",
              "</style>\n",
              "\n",
              "  <script>\n",
              "    async function quickchart(key) {\n",
              "      const quickchartButtonEl =\n",
              "        document.querySelector('#' + key + ' button');\n",
              "      quickchartButtonEl.disabled = true;  // To prevent multiple clicks.\n",
              "      quickchartButtonEl.classList.add('colab-df-spinner');\n",
              "      try {\n",
              "        const charts = await google.colab.kernel.invokeFunction(\n",
              "            'suggestCharts', [key], {});\n",
              "      } catch (error) {\n",
              "        console.error('Error during call to suggestCharts:', error);\n",
              "      }\n",
              "      quickchartButtonEl.classList.remove('colab-df-spinner');\n",
              "      quickchartButtonEl.classList.add('colab-df-quickchart-complete');\n",
              "    }\n",
              "    (() => {\n",
              "      let quickchartButtonEl =\n",
              "        document.querySelector('#df-443d5749-33a0-406c-9b8c-f0c65f6c959b button');\n",
              "      quickchartButtonEl.style.display =\n",
              "        google.colab.kernel.accessAllowed ? 'block' : 'none';\n",
              "    })();\n",
              "  </script>\n",
              "</div>\n",
              "\n",
              "  <div id=\"id_732d20ec-53cb-495f-892d-f88c7245a0ce\">\n",
              "    <style>\n",
              "      .colab-df-generate {\n",
              "        background-color: #E8F0FE;\n",
              "        border: none;\n",
              "        border-radius: 50%;\n",
              "        cursor: pointer;\n",
              "        display: none;\n",
              "        fill: #1967D2;\n",
              "        height: 32px;\n",
              "        padding: 0 0 0 0;\n",
              "        width: 32px;\n",
              "      }\n",
              "\n",
              "      .colab-df-generate:hover {\n",
              "        background-color: #E2EBFA;\n",
              "        box-shadow: 0px 1px 2px rgba(60, 64, 67, 0.3), 0px 1px 3px 1px rgba(60, 64, 67, 0.15);\n",
              "        fill: #174EA6;\n",
              "      }\n",
              "\n",
              "      [theme=dark] .colab-df-generate {\n",
              "        background-color: #3B4455;\n",
              "        fill: #D2E3FC;\n",
              "      }\n",
              "\n",
              "      [theme=dark] .colab-df-generate:hover {\n",
              "        background-color: #434B5C;\n",
              "        box-shadow: 0px 1px 3px 1px rgba(0, 0, 0, 0.15);\n",
              "        filter: drop-shadow(0px 1px 2px rgba(0, 0, 0, 0.3));\n",
              "        fill: #FFFFFF;\n",
              "      }\n",
              "    </style>\n",
              "    <button class=\"colab-df-generate\" onclick=\"generateWithVariable('df_ringkasan')\"\n",
              "            title=\"Generate code using this dataframe.\"\n",
              "            style=\"display:none;\">\n",
              "\n",
              "  <svg xmlns=\"http://www.w3.org/2000/svg\" height=\"24px\"viewBox=\"0 0 24 24\"\n",
              "       width=\"24px\">\n",
              "    <path d=\"M7,19H8.4L18.45,9,17,7.55,7,17.6ZM5,21V16.75L18.45,3.32a2,2,0,0,1,2.83,0l1.4,1.43a1.91,1.91,0,0,1,.58,1.4,1.91,1.91,0,0,1-.58,1.4L9.25,21ZM18.45,9,17,7.55Zm-12,3A5.31,5.31,0,0,0,4.9,8.1,5.31,5.31,0,0,0,1,6.5,5.31,5.31,0,0,0,4.9,4.9,5.31,5.31,0,0,0,6.5,1,5.31,5.31,0,0,0,8.1,4.9,5.31,5.31,0,0,0,12,6.5,5.46,5.46,0,0,0,6.5,12Z\"/>\n",
              "  </svg>\n",
              "    </button>\n",
              "    <script>\n",
              "      (() => {\n",
              "      const buttonEl =\n",
              "        document.querySelector('#id_732d20ec-53cb-495f-892d-f88c7245a0ce button.colab-df-generate');\n",
              "      buttonEl.style.display =\n",
              "        google.colab.kernel.accessAllowed ? 'block' : 'none';\n",
              "\n",
              "      buttonEl.onclick = () => {\n",
              "        google.colab.notebook.generateWithVariable('df_ringkasan');\n",
              "      }\n",
              "      })();\n",
              "    </script>\n",
              "  </div>\n",
              "\n",
              "    </div>\n",
              "  </div>\n"
            ],
            "application/vnd.google.colaboratory.intrinsic+json": {
              "type": "dataframe",
              "variable_name": "df_ringkasan",
              "summary": "{\n  \"name\": \"df_ringkasan\",\n  \"rows\": 3,\n  \"fields\": [\n    {\n      \"column\": \"Model\",\n      \"properties\": {\n        \"dtype\": \"string\",\n        \"num_unique_values\": 3,\n        \"samples\": [\n          \"LSTM + Embedding (80/20)\",\n          \"SVM + TF-IDF (80/20)\",\n          \"Random Forest + TF-IDF (80/20)\"\n        ],\n        \"semantic_type\": \"\",\n        \"description\": \"\"\n      }\n    },\n    {\n      \"column\": \"Akurasi\",\n      \"properties\": {\n        \"dtype\": \"string\",\n        \"num_unique_values\": 3,\n        \"samples\": [\n          \"95.40%\",\n          \"92.43%\",\n          \"86.55%\"\n        ],\n        \"semantic_type\": \"\",\n        \"description\": \"\"\n      }\n    }\n  ]\n}"
            }
          },
          "metadata": {}
        }
      ]
    },
    {
      "cell_type": "markdown",
      "source": [
        "#Kesimpulan:\n",
        "- **Model LSTM** paling unggul dalam memprediksi sentimen karena mampu memahami konteks urutan kata.\n",
        "- Model **SVM** cukup efisien dan tetap akurat dengan pendekatan berbasis fitur statistik.\n",
        "- **Random Forest**, meskipun telah dituning, cenderung memiliki performa lebih rendah dibanding dua model di atas, mungkin karena kurang optimal menangani data teks yang bergantung pada urutan dan konteks."
      ],
      "metadata": {
        "id": "758m34rQ992T"
      }
    },
    {
      "cell_type": "markdown",
      "source": [
        "**Menyimpan Models untuk Inference**"
      ],
      "metadata": {
        "id": "r9kDFpdRUUy_"
      }
    },
    {
      "cell_type": "code",
      "source": [
        "# Simpan Model LSTM\n",
        "model_lstm.save(\"../Models/lstm_sentiment_model.h5\")\n",
        "\n",
        "# Simpan Model SVM\n",
        "with open(\"../Models/svm_sentiment_model.pkl\", \"wb\") as f:\n",
        "    pickle.dump(model_svm, f)\n",
        "\n",
        "# Simpan Model Random Forest\n",
        "with open(\"../Models/rf_sentiment_model.pkl\", \"wb\") as f:\n",
        "    pickle.dump(rf_model, f)\n",
        "\n",
        "# Simpan TF-IDF Vectorizer\n",
        "with open(\"../Models/vectorizer.pkl\", \"wb\") as f:\n",
        "    pickle.dump(tfidf, f)\n",
        "\n",
        "# Simpan Tokenizer\n",
        "with open(\"../Models/tokenizer.pkl\", \"wb\") as f:\n",
        "    pickle.dump(tokenizer, f)"
      ],
      "metadata": {
        "colab": {
          "base_uri": "https://localhost:8080/"
        },
        "id": "MTEsXjJAYE_z",
        "outputId": "86cac273-24e7-4c2a-cfe3-c22466e2f067"
      },
      "execution_count": 31,
      "outputs": [
        {
          "output_type": "stream",
          "name": "stderr",
          "text": [
            "WARNING:absl:You are saving your model as an HDF5 file via `model.save()` or `keras.saving.save_model(model)`. This file format is considered legacy. We recommend using instead the native Keras format, e.g. `model.save('my_model.keras')` or `keras.saving.save_model(model, 'my_model.keras')`. \n"
          ]
        }
      ]
    }
  ]
}