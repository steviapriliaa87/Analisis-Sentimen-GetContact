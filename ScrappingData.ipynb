{
  "nbformat": 4,
  "nbformat_minor": 0,
  "metadata": {
    "colab": {
      "provenance": []
    },
    "kernelspec": {
      "name": "python3",
      "display_name": "Python 3"
    },
    "language_info": {
      "name": "python"
    }
  },
  "cells": [
    {
      "cell_type": "markdown",
      "source": [
        "**Instalasi dan Import Library untuk Scraping**\n",
        "\n",
        "Pada tahap ini, dilakukan instalasi library google-play-scraper yang digunakan untuk mengambil data ulasan dari aplikasi Android yang tersedia di Google Play Store. Setelah itu, dilakukan import library yang dibutuhkan, yaitu:\n",
        "\n",
        "- pandas untuk manipulasi dan penyimpanan data dalam bentuk DataFrame.\n",
        "- reviews_all dan reviews dari google_play_scraper, yang berfungsi untuk mengambil seluruh ulasan atau sebagian ulasan aplikasi dari Play Store.\n",
        "- Sort digunakan untuk mengatur urutan ulasan (misalnya berdasarkan ulasan terbaru atau ulasan dengan rating tertinggi)."
      ],
      "metadata": {
        "id": "Gxq1qyRKDJGq"
      }
    },
    {
      "cell_type": "code",
      "source": [
        "!pip install google_play_scraper"
      ],
      "metadata": {
        "colab": {
          "base_uri": "https://localhost:8080/"
        },
        "id": "se70JbXJsZow",
        "outputId": "2c59eddd-3850-4f16-86df-8739f3028c1f"
      },
      "execution_count": 1,
      "outputs": [
        {
          "output_type": "stream",
          "name": "stdout",
          "text": [
            "Collecting google_play_scraper\n",
            "  Downloading google_play_scraper-1.2.7-py3-none-any.whl.metadata (50 kB)\n",
            "\u001b[?25l     \u001b[90m━━━━━━━━━━━━━━━━━━━━━━━━━━━━━━━━━━━━━━━━\u001b[0m \u001b[32m0.0/50.2 kB\u001b[0m \u001b[31m?\u001b[0m eta \u001b[36m-:--:--\u001b[0m\r\u001b[2K     \u001b[90m━━━━━━━━━━━━━━━━━━━━━━━━━━━━━━━━━━━━━━━━\u001b[0m \u001b[32m50.2/50.2 kB\u001b[0m \u001b[31m1.6 MB/s\u001b[0m eta \u001b[36m0:00:00\u001b[0m\n",
            "\u001b[?25hDownloading google_play_scraper-1.2.7-py3-none-any.whl (28 kB)\n",
            "Installing collected packages: google_play_scraper\n",
            "Successfully installed google_play_scraper-1.2.7\n"
          ]
        }
      ]
    },
    {
      "cell_type": "code",
      "execution_count": 2,
      "metadata": {
        "id": "kflvaImrrJF-"
      },
      "outputs": [],
      "source": [
        "# Import library\n",
        "from google_play_scraper import reviews_all, reviews, Sort\n",
        "import pandas as pd"
      ]
    },
    {
      "cell_type": "code",
      "source": [
        "# Mengambil 25000 ulasan aplikasi tokopedia\n",
        "scrapreview = reviews(\n",
        "    'app.source.getcontact',\n",
        "    lang='id',\n",
        "    country='id',\n",
        "    sort=Sort.MOST_RELEVANT,\n",
        "    count = 25000,\n",
        "    filter_score_with=None\n",
        ")"
      ],
      "metadata": {
        "id": "JQQSpKnKsPCe"
      },
      "execution_count": 3,
      "outputs": []
    },
    {
      "cell_type": "code",
      "source": [
        "# Menyimpan hasil scrap ke dalam file csv\n",
        "data = pd.DataFrame(scrapreview[0])\n",
        "data.to_csv('ulasan_GetContact.csv', index=False)"
      ],
      "metadata": {
        "id": "TqMIwwq0sPJT"
      },
      "execution_count": 4,
      "outputs": []
    }
  ]
}